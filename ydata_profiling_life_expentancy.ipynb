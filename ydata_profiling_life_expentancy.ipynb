{
 "cells": [
  {
   "cell_type": "code",
   "execution_count": 1,
   "metadata": {},
   "outputs": [],
   "source": [
    "import numpy as np\n",
    "import ydata_profiling as yp\n",
    "import pandas as pd\n",
    "import matplotlib.pyplot as plt"
   ]
  },
  {
   "cell_type": "code",
   "execution_count": 3,
   "metadata": {},
   "outputs": [],
   "source": [
    "# pip install ydata-profiling"
   ]
  },
  {
   "cell_type": "code",
   "execution_count": 2,
   "metadata": {},
   "outputs": [],
   "source": [
    "import pandas as pd\n",
    "from ydata_profiling import ProfileReport"
   ]
  },
  {
   "cell_type": "code",
   "execution_count": 3,
   "metadata": {},
   "outputs": [],
   "source": [
    "# import the data set\n",
    "df = pd.read_csv('Life Expectancy Data.csv')"
   ]
  },
  {
   "cell_type": "code",
   "execution_count": 4,
   "metadata": {},
   "outputs": [],
   "source": [
    "profile = ProfileReport(df, title=\"Pandas Profiling Report\", explorative=True)"
   ]
  },
  {
   "cell_type": "code",
   "execution_count": 6,
   "metadata": {},
   "outputs": [
    {
     "data": {
      "application/vnd.jupyter.widget-view+json": {
       "model_id": "35e7acabef7d4a63af2b580d35997b53",
       "version_major": 2,
       "version_minor": 0
      },
      "text/plain": [
       "Summarize dataset:   0%|          | 0/5 [00:00<?, ?it/s]"
      ]
     },
     "metadata": {},
     "output_type": "display_data"
    },
    {
     "data": {
      "application/vnd.jupyter.widget-view+json": {
       "model_id": "1489261cf4224329b26da81db65b2c5b",
       "version_major": 2,
       "version_minor": 0
      },
      "text/plain": [
       "Generate report structure:   0%|          | 0/1 [00:00<?, ?it/s]"
      ]
     },
     "metadata": {},
     "output_type": "display_data"
    },
    {
     "data": {
      "application/vnd.jupyter.widget-view+json": {
       "model_id": "ee92333a51924a188ada63c7ebdd642d",
       "version_major": 2,
       "version_minor": 0
      },
      "text/plain": [
       "Render HTML:   0%|          | 0/1 [00:00<?, ?it/s]"
      ]
     },
     "metadata": {},
     "output_type": "display_data"
    },
    {
     "data": {
      "application/vnd.jupyter.widget-view+json": {
       "model_id": "a3a7605c4dfc414f9d4e4dff95de4e87",
       "version_major": 2,
       "version_minor": 0
      },
      "text/plain": [
       "Export report to file:   0%|          | 0/1 [00:00<?, ?it/s]"
      ]
     },
     "metadata": {},
     "output_type": "display_data"
    }
   ],
   "source": [
    "profile.to_file(\"Life_Expectancy.html\")"
   ]
  },
  {
   "cell_type": "code",
   "execution_count": null,
   "metadata": {},
   "outputs": [],
   "source": [
    "# pip install skimpy"
   ]
  },
  {
   "cell_type": "code",
   "execution_count": 7,
   "metadata": {},
   "outputs": [
    {
     "data": {
      "text/html": [
       "<pre style=\"white-space:pre;overflow-x:auto;line-height:normal;font-family:Menlo,'DejaVu Sans Mono',consolas,'Courier New',monospace\">╭──────────────────────────────────────────────── skimpy summary ─────────────────────────────────────────────────╮\n",
       "│ <span style=\"font-style: italic\">         Data Summary         </span> <span style=\"font-style: italic\">      Data Types       </span>                                                          │\n",
       "│ ┏━━━━━━━━━━━━━━━━━━━┳━━━━━━━━┓ ┏━━━━━━━━━━━━━┳━━━━━━━┓                                                          │\n",
       "│ ┃<span style=\"color: #008080; text-decoration-color: #008080; font-weight: bold\"> dataframe         </span>┃<span style=\"color: #008080; text-decoration-color: #008080; font-weight: bold\"> Values </span>┃ ┃<span style=\"color: #008080; text-decoration-color: #008080; font-weight: bold\"> Column Type </span>┃<span style=\"color: #008080; text-decoration-color: #008080; font-weight: bold\"> Count </span>┃                                                          │\n",
       "│ ┡━━━━━━━━━━━━━━━━━━━╇━━━━━━━━┩ ┡━━━━━━━━━━━━━╇━━━━━━━┩                                                          │\n",
       "│ │ Number of rows    │ 2940   │ │ float64     │ 20    │                                                          │\n",
       "│ │ Number of columns │ 22     │ │ string      │ 2     │                                                          │\n",
       "│ └───────────────────┴────────┘ └─────────────┴───────┘                                                          │\n",
       "│ <span style=\"font-style: italic\">                                                    number                                                    </span>  │\n",
       "│ ┏━━━━━━━━━━━━━━━━━━━━━━━┳━━━━━━┳━━━━━━━┳━━━━━━━━━━┳━━━━━━━━━━┳━━━━━━┳━━━━━━━━┳━━━━━━━━━┳━━━━━━━━━━━━┳━━━━━━━━┓  │\n",
       "│ ┃<span style=\"font-weight: bold\"> column_name           </span>┃<span style=\"font-weight: bold\"> NA   </span>┃<span style=\"font-weight: bold\"> NA %  </span>┃<span style=\"font-weight: bold\"> mean     </span>┃<span style=\"font-weight: bold\"> sd       </span>┃<span style=\"font-weight: bold\"> p0   </span>┃<span style=\"font-weight: bold\"> p25    </span>┃<span style=\"font-weight: bold\"> p75     </span>┃<span style=\"font-weight: bold\"> p100       </span>┃<span style=\"font-weight: bold\"> hist   </span>┃  │\n",
       "│ ┡━━━━━━━━━━━━━━━━━━━━━━━╇━━━━━━╇━━━━━━━╇━━━━━━━━━━╇━━━━━━━━━━╇━━━━━━╇━━━━━━━━╇━━━━━━━━━╇━━━━━━━━━━━━╇━━━━━━━━┩  │\n",
       "│ │ <span style=\"color: #af87ff; text-decoration-color: #af87ff\">Year                 </span> │ <span style=\"color: #008080; text-decoration-color: #008080\">   2</span> │ <span style=\"color: #008080; text-decoration-color: #008080\">0.068</span> │ <span style=\"color: #008080; text-decoration-color: #008080\">    2000</span> │ <span style=\"color: #008080; text-decoration-color: #008080\">     4.6</span> │ <span style=\"color: #008080; text-decoration-color: #008080\">2000</span> │ <span style=\"color: #008080; text-decoration-color: #008080\">  2000</span> │ <span style=\"color: #008080; text-decoration-color: #008080\">   2000</span> │ <span style=\"color: #008080; text-decoration-color: #008080\">      2000</span> │ <span style=\"color: #008000; text-decoration-color: #008000\">█▅█▅██</span> │  │\n",
       "│ │ <span style=\"color: #af87ff; text-decoration-color: #af87ff\">Life expectancy      </span> │ <span style=\"color: #008080; text-decoration-color: #008080\">  12</span> │ <span style=\"color: #008080; text-decoration-color: #008080\"> 0.41</span> │ <span style=\"color: #008080; text-decoration-color: #008080\">      69</span> │ <span style=\"color: #008080; text-decoration-color: #008080\">     9.5</span> │ <span style=\"color: #008080; text-decoration-color: #008080\">  36</span> │ <span style=\"color: #008080; text-decoration-color: #008080\">    63</span> │ <span style=\"color: #008080; text-decoration-color: #008080\">     76</span> │ <span style=\"color: #008080; text-decoration-color: #008080\">        89</span> │ <span style=\"color: #008000; text-decoration-color: #008000\"> ▁▃▄█▂</span> │  │\n",
       "│ │ <span style=\"color: #af87ff; text-decoration-color: #af87ff\">Adult Mortality      </span> │ <span style=\"color: #008080; text-decoration-color: #008080\">  12</span> │ <span style=\"color: #008080; text-decoration-color: #008080\"> 0.41</span> │ <span style=\"color: #008080; text-decoration-color: #008080\">     160</span> │ <span style=\"color: #008080; text-decoration-color: #008080\">     120</span> │ <span style=\"color: #008080; text-decoration-color: #008080\">   1</span> │ <span style=\"color: #008080; text-decoration-color: #008080\">    74</span> │ <span style=\"color: #008080; text-decoration-color: #008080\">    230</span> │ <span style=\"color: #008080; text-decoration-color: #008080\">       720</span> │ <span style=\"color: #008000; text-decoration-color: #008000\"> ██▃▁ </span> │  │\n",
       "│ │ <span style=\"color: #af87ff; text-decoration-color: #af87ff\">infant deaths        </span> │ <span style=\"color: #008080; text-decoration-color: #008080\">   2</span> │ <span style=\"color: #008080; text-decoration-color: #008080\">0.068</span> │ <span style=\"color: #008080; text-decoration-color: #008080\">      30</span> │ <span style=\"color: #008080; text-decoration-color: #008080\">     120</span> │ <span style=\"color: #008080; text-decoration-color: #008080\">   0</span> │ <span style=\"color: #008080; text-decoration-color: #008080\">     0</span> │ <span style=\"color: #008080; text-decoration-color: #008080\">     22</span> │ <span style=\"color: #008080; text-decoration-color: #008080\">      1800</span> │ <span style=\"color: #008000; text-decoration-color: #008000\">  █   </span> │  │\n",
       "│ │ <span style=\"color: #af87ff; text-decoration-color: #af87ff\">Alcohol              </span> │ <span style=\"color: #008080; text-decoration-color: #008080\"> 200</span> │ <span style=\"color: #008080; text-decoration-color: #008080\">  6.7</span> │ <span style=\"color: #008080; text-decoration-color: #008080\">     4.6</span> │ <span style=\"color: #008080; text-decoration-color: #008080\">     4.1</span> │ <span style=\"color: #008080; text-decoration-color: #008080\">0.01</span> │ <span style=\"color: #008080; text-decoration-color: #008080\">  0.88</span> │ <span style=\"color: #008080; text-decoration-color: #008080\">    7.7</span> │ <span style=\"color: #008080; text-decoration-color: #008080\">        18</span> │ <span style=\"color: #008000; text-decoration-color: #008000\">█▃▃▂▁ </span> │  │\n",
       "│ │ <span style=\"color: #af87ff; text-decoration-color: #af87ff\">percentage expenditu </span> │ <span style=\"color: #008080; text-decoration-color: #008080\">   2</span> │ <span style=\"color: #008080; text-decoration-color: #008080\">0.068</span> │ <span style=\"color: #008080; text-decoration-color: #008080\">     740</span> │ <span style=\"color: #008080; text-decoration-color: #008080\">    2000</span> │ <span style=\"color: #008080; text-decoration-color: #008080\">   0</span> │ <span style=\"color: #008080; text-decoration-color: #008080\">   4.7</span> │ <span style=\"color: #008080; text-decoration-color: #008080\">    440</span> │ <span style=\"color: #008080; text-decoration-color: #008080\">     19000</span> │ <span style=\"color: #008000; text-decoration-color: #008000\">  █   </span> │  │\n",
       "│ │ <span style=\"color: #af87ff; text-decoration-color: #af87ff\">Hepatitis B          </span> │ <span style=\"color: #008080; text-decoration-color: #008080\"> 560</span> │ <span style=\"color: #008080; text-decoration-color: #008080\">   19</span> │ <span style=\"color: #008080; text-decoration-color: #008080\">      81</span> │ <span style=\"color: #008080; text-decoration-color: #008080\">      25</span> │ <span style=\"color: #008080; text-decoration-color: #008080\">   1</span> │ <span style=\"color: #008080; text-decoration-color: #008080\">    77</span> │ <span style=\"color: #008080; text-decoration-color: #008080\">     97</span> │ <span style=\"color: #008080; text-decoration-color: #008080\">        99</span> │ <span style=\"color: #008000; text-decoration-color: #008000\">▁  ▁▂█</span> │  │\n",
       "│ │ <span style=\"color: #af87ff; text-decoration-color: #af87ff\">Measles              </span> │ <span style=\"color: #008080; text-decoration-color: #008080\">   2</span> │ <span style=\"color: #008080; text-decoration-color: #008080\">0.068</span> │ <span style=\"color: #008080; text-decoration-color: #008080\">    2400</span> │ <span style=\"color: #008080; text-decoration-color: #008080\">   11000</span> │ <span style=\"color: #008080; text-decoration-color: #008080\">   0</span> │ <span style=\"color: #008080; text-decoration-color: #008080\">     0</span> │ <span style=\"color: #008080; text-decoration-color: #008080\">    360</span> │ <span style=\"color: #008080; text-decoration-color: #008080\">    210000</span> │ <span style=\"color: #008000; text-decoration-color: #008000\">  █   </span> │  │\n",
       "│ │ <span style=\"color: #af87ff; text-decoration-color: #af87ff\"> BMI                 </span> │ <span style=\"color: #008080; text-decoration-color: #008080\">  36</span> │ <span style=\"color: #008080; text-decoration-color: #008080\">  1.2</span> │ <span style=\"color: #008080; text-decoration-color: #008080\">      38</span> │ <span style=\"color: #008080; text-decoration-color: #008080\">      20</span> │ <span style=\"color: #008080; text-decoration-color: #008080\">   1</span> │ <span style=\"color: #008080; text-decoration-color: #008080\">    19</span> │ <span style=\"color: #008080; text-decoration-color: #008080\">     56</span> │ <span style=\"color: #008080; text-decoration-color: #008080\">        87</span> │ <span style=\"color: #008000; text-decoration-color: #008000\">▄▆▃█▄ </span> │  │\n",
       "│ │ <span style=\"color: #af87ff; text-decoration-color: #af87ff\">under-five deaths    </span> │ <span style=\"color: #008080; text-decoration-color: #008080\">   2</span> │ <span style=\"color: #008080; text-decoration-color: #008080\">0.068</span> │ <span style=\"color: #008080; text-decoration-color: #008080\">      42</span> │ <span style=\"color: #008080; text-decoration-color: #008080\">     160</span> │ <span style=\"color: #008080; text-decoration-color: #008080\">   0</span> │ <span style=\"color: #008080; text-decoration-color: #008080\">     0</span> │ <span style=\"color: #008080; text-decoration-color: #008080\">     28</span> │ <span style=\"color: #008080; text-decoration-color: #008080\">      2500</span> │ <span style=\"color: #008000; text-decoration-color: #008000\">  █   </span> │  │\n",
       "│ │ <span style=\"color: #af87ff; text-decoration-color: #af87ff\">Polio                </span> │ <span style=\"color: #008080; text-decoration-color: #008080\">  21</span> │ <span style=\"color: #008080; text-decoration-color: #008080\"> 0.71</span> │ <span style=\"color: #008080; text-decoration-color: #008080\">      83</span> │ <span style=\"color: #008080; text-decoration-color: #008080\">      23</span> │ <span style=\"color: #008080; text-decoration-color: #008080\">   3</span> │ <span style=\"color: #008080; text-decoration-color: #008080\">    78</span> │ <span style=\"color: #008080; text-decoration-color: #008080\">     97</span> │ <span style=\"color: #008080; text-decoration-color: #008080\">        99</span> │ <span style=\"color: #008000; text-decoration-color: #008000\">▁  ▁▂█</span> │  │\n",
       "│ │ <span style=\"color: #af87ff; text-decoration-color: #af87ff\">Total expenditure    </span> │ <span style=\"color: #008080; text-decoration-color: #008080\"> 230</span> │ <span style=\"color: #008080; text-decoration-color: #008080\">  7.8</span> │ <span style=\"color: #008080; text-decoration-color: #008080\">     5.9</span> │ <span style=\"color: #008080; text-decoration-color: #008080\">     2.5</span> │ <span style=\"color: #008080; text-decoration-color: #008080\">0.37</span> │ <span style=\"color: #008080; text-decoration-color: #008080\">   4.3</span> │ <span style=\"color: #008080; text-decoration-color: #008080\">    7.5</span> │ <span style=\"color: #008080; text-decoration-color: #008080\">        18</span> │ <span style=\"color: #008000; text-decoration-color: #008000\"> ▂█▆▂ </span> │  │\n",
       "│ │ <span style=\"color: #af87ff; text-decoration-color: #af87ff\">Diphtheria           </span> │ <span style=\"color: #008080; text-decoration-color: #008080\">  21</span> │ <span style=\"color: #008080; text-decoration-color: #008080\"> 0.71</span> │ <span style=\"color: #008080; text-decoration-color: #008080\">      82</span> │ <span style=\"color: #008080; text-decoration-color: #008080\">      24</span> │ <span style=\"color: #008080; text-decoration-color: #008080\">   2</span> │ <span style=\"color: #008080; text-decoration-color: #008080\">    78</span> │ <span style=\"color: #008080; text-decoration-color: #008080\">     97</span> │ <span style=\"color: #008080; text-decoration-color: #008080\">        99</span> │ <span style=\"color: #008000; text-decoration-color: #008000\">▁  ▁▂█</span> │  │\n",
       "│ │ <span style=\"color: #af87ff; text-decoration-color: #af87ff\"> HIV/AIDS            </span> │ <span style=\"color: #008080; text-decoration-color: #008080\">   2</span> │ <span style=\"color: #008080; text-decoration-color: #008080\">0.068</span> │ <span style=\"color: #008080; text-decoration-color: #008080\">     1.7</span> │ <span style=\"color: #008080; text-decoration-color: #008080\">     5.1</span> │ <span style=\"color: #008080; text-decoration-color: #008080\"> 0.1</span> │ <span style=\"color: #008080; text-decoration-color: #008080\">   0.1</span> │ <span style=\"color: #008080; text-decoration-color: #008080\">    0.8</span> │ <span style=\"color: #008080; text-decoration-color: #008080\">        51</span> │ <span style=\"color: #008000; text-decoration-color: #008000\">  █   </span> │  │\n",
       "│ │ <span style=\"color: #af87ff; text-decoration-color: #af87ff\">GDP(gross domestic p </span> │ <span style=\"color: #008080; text-decoration-color: #008080\"> 450</span> │ <span style=\"color: #008080; text-decoration-color: #008080\">   15</span> │ <span style=\"color: #008080; text-decoration-color: #008080\">    7500</span> │ <span style=\"color: #008080; text-decoration-color: #008080\">   14000</span> │ <span style=\"color: #008080; text-decoration-color: #008080\"> 1.7</span> │ <span style=\"color: #008080; text-decoration-color: #008080\">   460</span> │ <span style=\"color: #008080; text-decoration-color: #008080\">   5900</span> │ <span style=\"color: #008080; text-decoration-color: #008080\">    120000</span> │ <span style=\"color: #008000; text-decoration-color: #008000\">  █▁  </span> │  │\n",
       "│ │ <span style=\"color: #af87ff; text-decoration-color: #af87ff\">Population           </span> │ <span style=\"color: #008080; text-decoration-color: #008080\"> 650</span> │ <span style=\"color: #008080; text-decoration-color: #008080\">   22</span> │ <span style=\"color: #008080; text-decoration-color: #008080\">13000000</span> │ <span style=\"color: #008080; text-decoration-color: #008080\">61000000</span> │ <span style=\"color: #008080; text-decoration-color: #008080\">  34</span> │ <span style=\"color: #008080; text-decoration-color: #008080\">200000</span> │ <span style=\"color: #008080; text-decoration-color: #008080\">7400000</span> │ <span style=\"color: #008080; text-decoration-color: #008080\">1300000000</span> │ <span style=\"color: #008000; text-decoration-color: #008000\">  █   </span> │  │\n",
       "│ │ <span style=\"color: #af87ff; text-decoration-color: #af87ff\"> thinness  1-19 year </span> │ <span style=\"color: #008080; text-decoration-color: #008080\">  36</span> │ <span style=\"color: #008080; text-decoration-color: #008080\">  1.2</span> │ <span style=\"color: #008080; text-decoration-color: #008080\">     4.8</span> │ <span style=\"color: #008080; text-decoration-color: #008080\">     4.4</span> │ <span style=\"color: #008080; text-decoration-color: #008080\"> 0.1</span> │ <span style=\"color: #008080; text-decoration-color: #008080\">   1.6</span> │ <span style=\"color: #008080; text-decoration-color: #008080\">    7.2</span> │ <span style=\"color: #008080; text-decoration-color: #008080\">        28</span> │ <span style=\"color: #008000; text-decoration-color: #008000\"> █▄▁  </span> │  │\n",
       "│ │ <span style=\"color: #af87ff; text-decoration-color: #af87ff\"> thinness 5-9 years  </span> │ <span style=\"color: #008080; text-decoration-color: #008080\">  36</span> │ <span style=\"color: #008080; text-decoration-color: #008080\">  1.2</span> │ <span style=\"color: #008080; text-decoration-color: #008080\">     4.9</span> │ <span style=\"color: #008080; text-decoration-color: #008080\">     4.5</span> │ <span style=\"color: #008080; text-decoration-color: #008080\"> 0.1</span> │ <span style=\"color: #008080; text-decoration-color: #008080\">   1.5</span> │ <span style=\"color: #008080; text-decoration-color: #008080\">    7.2</span> │ <span style=\"color: #008080; text-decoration-color: #008080\">        29</span> │ <span style=\"color: #008000; text-decoration-color: #008000\"> █▄▁  </span> │  │\n",
       "│ │ <span style=\"color: #af87ff; text-decoration-color: #af87ff\">Income composition o </span> │ <span style=\"color: #008080; text-decoration-color: #008080\"> 170</span> │ <span style=\"color: #008080; text-decoration-color: #008080\">  5.7</span> │ <span style=\"color: #008080; text-decoration-color: #008080\">    0.63</span> │ <span style=\"color: #008080; text-decoration-color: #008080\">    0.21</span> │ <span style=\"color: #008080; text-decoration-color: #008080\">   0</span> │ <span style=\"color: #008080; text-decoration-color: #008080\">  0.49</span> │ <span style=\"color: #008080; text-decoration-color: #008080\">   0.78</span> │ <span style=\"color: #008080; text-decoration-color: #008080\">      0.95</span> │ <span style=\"color: #008000; text-decoration-color: #008000\">▁ ▃▄█▅</span> │  │\n",
       "│ │ <span style=\"color: #af87ff; text-decoration-color: #af87ff\">Schooling            </span> │ <span style=\"color: #008080; text-decoration-color: #008080\"> 160</span> │ <span style=\"color: #008080; text-decoration-color: #008080\">  5.6</span> │ <span style=\"color: #008080; text-decoration-color: #008080\">      12</span> │ <span style=\"color: #008080; text-decoration-color: #008080\">     3.4</span> │ <span style=\"color: #008080; text-decoration-color: #008080\">   0</span> │ <span style=\"color: #008080; text-decoration-color: #008080\">    10</span> │ <span style=\"color: #008080; text-decoration-color: #008080\">     14</span> │ <span style=\"color: #008080; text-decoration-color: #008080\">        21</span> │ <span style=\"color: #008000; text-decoration-color: #008000\"> ▁▄█▅▁</span> │  │\n",
       "│ └───────────────────────┴──────┴───────┴──────────┴──────────┴──────┴────────┴─────────┴────────────┴────────┘  │\n",
       "│ <span style=\"font-style: italic\">                                                    string                                                    </span>  │\n",
       "│ ┏━━━━━━━━━━━━━━━━━━━━━━━━━━┳━━━━━━━━┳━━━━━━━━━━━━━━┳━━━━━━━━━━━━━━━━━━━━━━━━━━━━━━┳━━━━━━━━━━━━━━━━━━━━━━━━━━┓  │\n",
       "│ ┃<span style=\"font-weight: bold\"> column_name              </span>┃<span style=\"font-weight: bold\"> NA     </span>┃<span style=\"font-weight: bold\"> NA %         </span>┃<span style=\"font-weight: bold\"> words per row                </span>┃<span style=\"font-weight: bold\"> total words              </span>┃  │\n",
       "│ ┡━━━━━━━━━━━━━━━━━━━━━━━━━━╇━━━━━━━━╇━━━━━━━━━━━━━━╇━━━━━━━━━━━━━━━━━━━━━━━━━━━━━━╇━━━━━━━━━━━━━━━━━━━━━━━━━━┩  │\n",
       "│ │ <span style=\"color: #af87ff; text-decoration-color: #af87ff\">Country                 </span> │ <span style=\"color: #008080; text-decoration-color: #008080\">     2</span> │ <span style=\"color: #008080; text-decoration-color: #008080\">       0.068</span> │ <span style=\"color: #008080; text-decoration-color: #008080\">                         1.5</span> │ <span style=\"color: #008080; text-decoration-color: #008080\">                    4300</span> │  │\n",
       "│ │ <span style=\"color: #af87ff; text-decoration-color: #af87ff\">Status                  </span> │ <span style=\"color: #008080; text-decoration-color: #008080\">     2</span> │ <span style=\"color: #008080; text-decoration-color: #008080\">       0.068</span> │ <span style=\"color: #008080; text-decoration-color: #008080\">                         1.5</span> │ <span style=\"color: #008080; text-decoration-color: #008080\">                    4300</span> │  │\n",
       "│ └──────────────────────────┴────────┴──────────────┴──────────────────────────────┴──────────────────────────┘  │\n",
       "╰────────────────────────────────────────────────────── End ──────────────────────────────────────────────────────╯\n",
       "</pre>\n"
      ],
      "text/plain": [
       "╭──────────────────────────────────────────────── skimpy summary ─────────────────────────────────────────────────╮\n",
       "│ \u001b[3m         Data Summary         \u001b[0m \u001b[3m      Data Types       \u001b[0m                                                          │\n",
       "│ ┏━━━━━━━━━━━━━━━━━━━┳━━━━━━━━┓ ┏━━━━━━━━━━━━━┳━━━━━━━┓                                                          │\n",
       "│ ┃\u001b[1;36m \u001b[0m\u001b[1;36mdataframe        \u001b[0m\u001b[1;36m \u001b[0m┃\u001b[1;36m \u001b[0m\u001b[1;36mValues\u001b[0m\u001b[1;36m \u001b[0m┃ ┃\u001b[1;36m \u001b[0m\u001b[1;36mColumn Type\u001b[0m\u001b[1;36m \u001b[0m┃\u001b[1;36m \u001b[0m\u001b[1;36mCount\u001b[0m\u001b[1;36m \u001b[0m┃                                                          │\n",
       "│ ┡━━━━━━━━━━━━━━━━━━━╇━━━━━━━━┩ ┡━━━━━━━━━━━━━╇━━━━━━━┩                                                          │\n",
       "│ │ Number of rows    │ 2940   │ │ float64     │ 20    │                                                          │\n",
       "│ │ Number of columns │ 22     │ │ string      │ 2     │                                                          │\n",
       "│ └───────────────────┴────────┘ └─────────────┴───────┘                                                          │\n",
       "│ \u001b[3m                                                    number                                                    \u001b[0m  │\n",
       "│ ┏━━━━━━━━━━━━━━━━━━━━━━━┳━━━━━━┳━━━━━━━┳━━━━━━━━━━┳━━━━━━━━━━┳━━━━━━┳━━━━━━━━┳━━━━━━━━━┳━━━━━━━━━━━━┳━━━━━━━━┓  │\n",
       "│ ┃\u001b[1m \u001b[0m\u001b[1mcolumn_name          \u001b[0m\u001b[1m \u001b[0m┃\u001b[1m \u001b[0m\u001b[1mNA  \u001b[0m\u001b[1m \u001b[0m┃\u001b[1m \u001b[0m\u001b[1mNA % \u001b[0m\u001b[1m \u001b[0m┃\u001b[1m \u001b[0m\u001b[1mmean    \u001b[0m\u001b[1m \u001b[0m┃\u001b[1m \u001b[0m\u001b[1msd      \u001b[0m\u001b[1m \u001b[0m┃\u001b[1m \u001b[0m\u001b[1mp0  \u001b[0m\u001b[1m \u001b[0m┃\u001b[1m \u001b[0m\u001b[1mp25   \u001b[0m\u001b[1m \u001b[0m┃\u001b[1m \u001b[0m\u001b[1mp75    \u001b[0m\u001b[1m \u001b[0m┃\u001b[1m \u001b[0m\u001b[1mp100      \u001b[0m\u001b[1m \u001b[0m┃\u001b[1m \u001b[0m\u001b[1mhist  \u001b[0m\u001b[1m \u001b[0m┃  │\n",
       "│ ┡━━━━━━━━━━━━━━━━━━━━━━━╇━━━━━━╇━━━━━━━╇━━━━━━━━━━╇━━━━━━━━━━╇━━━━━━╇━━━━━━━━╇━━━━━━━━━╇━━━━━━━━━━━━╇━━━━━━━━┩  │\n",
       "│ │ \u001b[38;5;141mYear                 \u001b[0m │ \u001b[36m   2\u001b[0m │ \u001b[36m0.068\u001b[0m │ \u001b[36m    2000\u001b[0m │ \u001b[36m     4.6\u001b[0m │ \u001b[36m2000\u001b[0m │ \u001b[36m  2000\u001b[0m │ \u001b[36m   2000\u001b[0m │ \u001b[36m      2000\u001b[0m │ \u001b[32m█▅█▅██\u001b[0m │  │\n",
       "│ │ \u001b[38;5;141mLife expectancy      \u001b[0m │ \u001b[36m  12\u001b[0m │ \u001b[36m 0.41\u001b[0m │ \u001b[36m      69\u001b[0m │ \u001b[36m     9.5\u001b[0m │ \u001b[36m  36\u001b[0m │ \u001b[36m    63\u001b[0m │ \u001b[36m     76\u001b[0m │ \u001b[36m        89\u001b[0m │ \u001b[32m ▁▃▄█▂\u001b[0m │  │\n",
       "│ │ \u001b[38;5;141mAdult Mortality      \u001b[0m │ \u001b[36m  12\u001b[0m │ \u001b[36m 0.41\u001b[0m │ \u001b[36m     160\u001b[0m │ \u001b[36m     120\u001b[0m │ \u001b[36m   1\u001b[0m │ \u001b[36m    74\u001b[0m │ \u001b[36m    230\u001b[0m │ \u001b[36m       720\u001b[0m │ \u001b[32m ██▃▁ \u001b[0m │  │\n",
       "│ │ \u001b[38;5;141minfant deaths        \u001b[0m │ \u001b[36m   2\u001b[0m │ \u001b[36m0.068\u001b[0m │ \u001b[36m      30\u001b[0m │ \u001b[36m     120\u001b[0m │ \u001b[36m   0\u001b[0m │ \u001b[36m     0\u001b[0m │ \u001b[36m     22\u001b[0m │ \u001b[36m      1800\u001b[0m │ \u001b[32m  █   \u001b[0m │  │\n",
       "│ │ \u001b[38;5;141mAlcohol              \u001b[0m │ \u001b[36m 200\u001b[0m │ \u001b[36m  6.7\u001b[0m │ \u001b[36m     4.6\u001b[0m │ \u001b[36m     4.1\u001b[0m │ \u001b[36m0.01\u001b[0m │ \u001b[36m  0.88\u001b[0m │ \u001b[36m    7.7\u001b[0m │ \u001b[36m        18\u001b[0m │ \u001b[32m█▃▃▂▁ \u001b[0m │  │\n",
       "│ │ \u001b[38;5;141mpercentage expenditu \u001b[0m │ \u001b[36m   2\u001b[0m │ \u001b[36m0.068\u001b[0m │ \u001b[36m     740\u001b[0m │ \u001b[36m    2000\u001b[0m │ \u001b[36m   0\u001b[0m │ \u001b[36m   4.7\u001b[0m │ \u001b[36m    440\u001b[0m │ \u001b[36m     19000\u001b[0m │ \u001b[32m  █   \u001b[0m │  │\n",
       "│ │ \u001b[38;5;141mHepatitis B          \u001b[0m │ \u001b[36m 560\u001b[0m │ \u001b[36m   19\u001b[0m │ \u001b[36m      81\u001b[0m │ \u001b[36m      25\u001b[0m │ \u001b[36m   1\u001b[0m │ \u001b[36m    77\u001b[0m │ \u001b[36m     97\u001b[0m │ \u001b[36m        99\u001b[0m │ \u001b[32m▁  ▁▂█\u001b[0m │  │\n",
       "│ │ \u001b[38;5;141mMeasles              \u001b[0m │ \u001b[36m   2\u001b[0m │ \u001b[36m0.068\u001b[0m │ \u001b[36m    2400\u001b[0m │ \u001b[36m   11000\u001b[0m │ \u001b[36m   0\u001b[0m │ \u001b[36m     0\u001b[0m │ \u001b[36m    360\u001b[0m │ \u001b[36m    210000\u001b[0m │ \u001b[32m  █   \u001b[0m │  │\n",
       "│ │ \u001b[38;5;141m BMI                 \u001b[0m │ \u001b[36m  36\u001b[0m │ \u001b[36m  1.2\u001b[0m │ \u001b[36m      38\u001b[0m │ \u001b[36m      20\u001b[0m │ \u001b[36m   1\u001b[0m │ \u001b[36m    19\u001b[0m │ \u001b[36m     56\u001b[0m │ \u001b[36m        87\u001b[0m │ \u001b[32m▄▆▃█▄ \u001b[0m │  │\n",
       "│ │ \u001b[38;5;141munder-five deaths    \u001b[0m │ \u001b[36m   2\u001b[0m │ \u001b[36m0.068\u001b[0m │ \u001b[36m      42\u001b[0m │ \u001b[36m     160\u001b[0m │ \u001b[36m   0\u001b[0m │ \u001b[36m     0\u001b[0m │ \u001b[36m     28\u001b[0m │ \u001b[36m      2500\u001b[0m │ \u001b[32m  █   \u001b[0m │  │\n",
       "│ │ \u001b[38;5;141mPolio                \u001b[0m │ \u001b[36m  21\u001b[0m │ \u001b[36m 0.71\u001b[0m │ \u001b[36m      83\u001b[0m │ \u001b[36m      23\u001b[0m │ \u001b[36m   3\u001b[0m │ \u001b[36m    78\u001b[0m │ \u001b[36m     97\u001b[0m │ \u001b[36m        99\u001b[0m │ \u001b[32m▁  ▁▂█\u001b[0m │  │\n",
       "│ │ \u001b[38;5;141mTotal expenditure    \u001b[0m │ \u001b[36m 230\u001b[0m │ \u001b[36m  7.8\u001b[0m │ \u001b[36m     5.9\u001b[0m │ \u001b[36m     2.5\u001b[0m │ \u001b[36m0.37\u001b[0m │ \u001b[36m   4.3\u001b[0m │ \u001b[36m    7.5\u001b[0m │ \u001b[36m        18\u001b[0m │ \u001b[32m ▂█▆▂ \u001b[0m │  │\n",
       "│ │ \u001b[38;5;141mDiphtheria           \u001b[0m │ \u001b[36m  21\u001b[0m │ \u001b[36m 0.71\u001b[0m │ \u001b[36m      82\u001b[0m │ \u001b[36m      24\u001b[0m │ \u001b[36m   2\u001b[0m │ \u001b[36m    78\u001b[0m │ \u001b[36m     97\u001b[0m │ \u001b[36m        99\u001b[0m │ \u001b[32m▁  ▁▂█\u001b[0m │  │\n",
       "│ │ \u001b[38;5;141m HIV/AIDS            \u001b[0m │ \u001b[36m   2\u001b[0m │ \u001b[36m0.068\u001b[0m │ \u001b[36m     1.7\u001b[0m │ \u001b[36m     5.1\u001b[0m │ \u001b[36m 0.1\u001b[0m │ \u001b[36m   0.1\u001b[0m │ \u001b[36m    0.8\u001b[0m │ \u001b[36m        51\u001b[0m │ \u001b[32m  █   \u001b[0m │  │\n",
       "│ │ \u001b[38;5;141mGDP(gross domestic p \u001b[0m │ \u001b[36m 450\u001b[0m │ \u001b[36m   15\u001b[0m │ \u001b[36m    7500\u001b[0m │ \u001b[36m   14000\u001b[0m │ \u001b[36m 1.7\u001b[0m │ \u001b[36m   460\u001b[0m │ \u001b[36m   5900\u001b[0m │ \u001b[36m    120000\u001b[0m │ \u001b[32m  █▁  \u001b[0m │  │\n",
       "│ │ \u001b[38;5;141mPopulation           \u001b[0m │ \u001b[36m 650\u001b[0m │ \u001b[36m   22\u001b[0m │ \u001b[36m13000000\u001b[0m │ \u001b[36m61000000\u001b[0m │ \u001b[36m  34\u001b[0m │ \u001b[36m200000\u001b[0m │ \u001b[36m7400000\u001b[0m │ \u001b[36m1300000000\u001b[0m │ \u001b[32m  █   \u001b[0m │  │\n",
       "│ │ \u001b[38;5;141m thinness  1-19 year \u001b[0m │ \u001b[36m  36\u001b[0m │ \u001b[36m  1.2\u001b[0m │ \u001b[36m     4.8\u001b[0m │ \u001b[36m     4.4\u001b[0m │ \u001b[36m 0.1\u001b[0m │ \u001b[36m   1.6\u001b[0m │ \u001b[36m    7.2\u001b[0m │ \u001b[36m        28\u001b[0m │ \u001b[32m █▄▁  \u001b[0m │  │\n",
       "│ │ \u001b[38;5;141m thinness 5-9 years  \u001b[0m │ \u001b[36m  36\u001b[0m │ \u001b[36m  1.2\u001b[0m │ \u001b[36m     4.9\u001b[0m │ \u001b[36m     4.5\u001b[0m │ \u001b[36m 0.1\u001b[0m │ \u001b[36m   1.5\u001b[0m │ \u001b[36m    7.2\u001b[0m │ \u001b[36m        29\u001b[0m │ \u001b[32m █▄▁  \u001b[0m │  │\n",
       "│ │ \u001b[38;5;141mIncome composition o \u001b[0m │ \u001b[36m 170\u001b[0m │ \u001b[36m  5.7\u001b[0m │ \u001b[36m    0.63\u001b[0m │ \u001b[36m    0.21\u001b[0m │ \u001b[36m   0\u001b[0m │ \u001b[36m  0.49\u001b[0m │ \u001b[36m   0.78\u001b[0m │ \u001b[36m      0.95\u001b[0m │ \u001b[32m▁ ▃▄█▅\u001b[0m │  │\n",
       "│ │ \u001b[38;5;141mSchooling            \u001b[0m │ \u001b[36m 160\u001b[0m │ \u001b[36m  5.6\u001b[0m │ \u001b[36m      12\u001b[0m │ \u001b[36m     3.4\u001b[0m │ \u001b[36m   0\u001b[0m │ \u001b[36m    10\u001b[0m │ \u001b[36m     14\u001b[0m │ \u001b[36m        21\u001b[0m │ \u001b[32m ▁▄█▅▁\u001b[0m │  │\n",
       "│ └───────────────────────┴──────┴───────┴──────────┴──────────┴──────┴────────┴─────────┴────────────┴────────┘  │\n",
       "│ \u001b[3m                                                    string                                                    \u001b[0m  │\n",
       "│ ┏━━━━━━━━━━━━━━━━━━━━━━━━━━┳━━━━━━━━┳━━━━━━━━━━━━━━┳━━━━━━━━━━━━━━━━━━━━━━━━━━━━━━┳━━━━━━━━━━━━━━━━━━━━━━━━━━┓  │\n",
       "│ ┃\u001b[1m \u001b[0m\u001b[1mcolumn_name             \u001b[0m\u001b[1m \u001b[0m┃\u001b[1m \u001b[0m\u001b[1mNA    \u001b[0m\u001b[1m \u001b[0m┃\u001b[1m \u001b[0m\u001b[1mNA %        \u001b[0m\u001b[1m \u001b[0m┃\u001b[1m \u001b[0m\u001b[1mwords per row               \u001b[0m\u001b[1m \u001b[0m┃\u001b[1m \u001b[0m\u001b[1mtotal words             \u001b[0m\u001b[1m \u001b[0m┃  │\n",
       "│ ┡━━━━━━━━━━━━━━━━━━━━━━━━━━╇━━━━━━━━╇━━━━━━━━━━━━━━╇━━━━━━━━━━━━━━━━━━━━━━━━━━━━━━╇━━━━━━━━━━━━━━━━━━━━━━━━━━┩  │\n",
       "│ │ \u001b[38;5;141mCountry                 \u001b[0m │ \u001b[36m     2\u001b[0m │ \u001b[36m       0.068\u001b[0m │ \u001b[36m                         1.5\u001b[0m │ \u001b[36m                    4300\u001b[0m │  │\n",
       "│ │ \u001b[38;5;141mStatus                  \u001b[0m │ \u001b[36m     2\u001b[0m │ \u001b[36m       0.068\u001b[0m │ \u001b[36m                         1.5\u001b[0m │ \u001b[36m                    4300\u001b[0m │  │\n",
       "│ └──────────────────────────┴────────┴──────────────┴──────────────────────────────┴──────────────────────────┘  │\n",
       "╰────────────────────────────────────────────────────── End ──────────────────────────────────────────────────────╯\n"
      ]
     },
     "metadata": {},
     "output_type": "display_data"
    }
   ],
   "source": [
    "from skimpy import skim\n",
    "skim(df)"
   ]
  },
  {
   "cell_type": "code",
   "execution_count": 8,
   "metadata": {},
   "outputs": [
    {
     "name": "stderr",
     "output_type": "stream",
     "text": [
      "C:\\Users\\HD\\AppData\\Local\\Packages\\PythonSoftwareFoundation.Python.3.10_qbz5n2kfra8p0\\LocalCache\\local-packages\\Python310\\site-packages\\skimpy\\__init__.py:811: FutureWarning: 'M' is deprecated and will be removed in a future version, please use 'ME' instead.\n",
      "  df[\"date\"] = pd.date_range(\"2018-01-01\", periods=len_df, freq=\"M\")\n"
     ]
    },
    {
     "data": {
      "text/html": [
       "<pre style=\"white-space:pre;overflow-x:auto;line-height:normal;font-family:Menlo,'DejaVu Sans Mono',consolas,'Courier New',monospace\">╭──────────────────────────────────────────────── skimpy summary ─────────────────────────────────────────────────╮\n",
       "│ <span style=\"font-style: italic\">         Data Summary         </span> <span style=\"font-style: italic\">      Data Types       </span> <span style=\"font-style: italic\">       Categories        </span>                                │\n",
       "│ ┏━━━━━━━━━━━━━━━━━━━┳━━━━━━━━┓ ┏━━━━━━━━━━━━━┳━━━━━━━┓ ┏━━━━━━━━━━━━━━━━━━━━━━━┓                                │\n",
       "│ ┃<span style=\"color: #008080; text-decoration-color: #008080; font-weight: bold\"> dataframe         </span>┃<span style=\"color: #008080; text-decoration-color: #008080; font-weight: bold\"> Values </span>┃ ┃<span style=\"color: #008080; text-decoration-color: #008080; font-weight: bold\"> Column Type </span>┃<span style=\"color: #008080; text-decoration-color: #008080; font-weight: bold\"> Count </span>┃ ┃<span style=\"color: #008080; text-decoration-color: #008080; font-weight: bold\"> Categorical Variables </span>┃                                │\n",
       "│ ┡━━━━━━━━━━━━━━━━━━━╇━━━━━━━━┩ ┡━━━━━━━━━━━━━╇━━━━━━━┩ ┡━━━━━━━━━━━━━━━━━━━━━━━┩                                │\n",
       "│ │ Number of rows    │ 1000   │ │ float64     │ 3     │ │ class                 │                                │\n",
       "│ │ Number of columns │ 10     │ │ category    │ 2     │ │ location              │                                │\n",
       "│ └───────────────────┴────────┘ │ datetime64  │ 2     │ └───────────────────────┘                                │\n",
       "│                                │ int32       │ 1     │                                                          │\n",
       "│                                │ bool        │ 1     │                                                          │\n",
       "│                                │ string      │ 1     │                                                          │\n",
       "│                                └─────────────┴───────┘                                                          │\n",
       "│ <span style=\"font-style: italic\">                                                    number                                                    </span>  │\n",
       "│ ┏━━━━━━━━━━━━━━━━━━┳━━━━━━━┳━━━━━━━━━┳━━━━━━━━━━┳━━━━━━━━┳━━━━━━━━━━━━┳━━━━━━━━━━┳━━━━━━━━┳━━━━━━━━┳━━━━━━━━━┓  │\n",
       "│ ┃<span style=\"font-weight: bold\"> column_name      </span>┃<span style=\"font-weight: bold\"> NA    </span>┃<span style=\"font-weight: bold\"> NA %    </span>┃<span style=\"font-weight: bold\"> mean     </span>┃<span style=\"font-weight: bold\"> sd     </span>┃<span style=\"font-weight: bold\"> p0         </span>┃<span style=\"font-weight: bold\"> p25      </span>┃<span style=\"font-weight: bold\"> p75    </span>┃<span style=\"font-weight: bold\"> p100   </span>┃<span style=\"font-weight: bold\"> hist    </span>┃  │\n",
       "│ ┡━━━━━━━━━━━━━━━━━━╇━━━━━━━╇━━━━━━━━━╇━━━━━━━━━━╇━━━━━━━━╇━━━━━━━━━━━━╇━━━━━━━━━━╇━━━━━━━━╇━━━━━━━━╇━━━━━━━━━┩  │\n",
       "│ │ <span style=\"color: #af87ff; text-decoration-color: #af87ff\">length          </span> │ <span style=\"color: #008080; text-decoration-color: #008080\">    0</span> │ <span style=\"color: #008080; text-decoration-color: #008080\">      0</span> │ <span style=\"color: #008080; text-decoration-color: #008080\">     0.5</span> │ <span style=\"color: #008080; text-decoration-color: #008080\">  0.36</span> │ <span style=\"color: #008080; text-decoration-color: #008080\">   1.6e-06</span> │ <span style=\"color: #008080; text-decoration-color: #008080\">    0.13</span> │ <span style=\"color: #008080; text-decoration-color: #008080\">  0.86</span> │ <span style=\"color: #008080; text-decoration-color: #008080\">     1</span> │ <span style=\"color: #008000; text-decoration-color: #008000\">█▃▃▃▄█ </span> │  │\n",
       "│ │ <span style=\"color: #af87ff; text-decoration-color: #af87ff\">width           </span> │ <span style=\"color: #008080; text-decoration-color: #008080\">    0</span> │ <span style=\"color: #008080; text-decoration-color: #008080\">      0</span> │ <span style=\"color: #008080; text-decoration-color: #008080\">       2</span> │ <span style=\"color: #008080; text-decoration-color: #008080\">   1.9</span> │ <span style=\"color: #008080; text-decoration-color: #008080\">    0.0021</span> │ <span style=\"color: #008080; text-decoration-color: #008080\">     0.6</span> │ <span style=\"color: #008080; text-decoration-color: #008080\">     3</span> │ <span style=\"color: #008080; text-decoration-color: #008080\">    14</span> │ <span style=\"color: #008000; text-decoration-color: #008000\">  █▃▁  </span> │  │\n",
       "│ │ <span style=\"color: #af87ff; text-decoration-color: #af87ff\">depth           </span> │ <span style=\"color: #008080; text-decoration-color: #008080\">    0</span> │ <span style=\"color: #008080; text-decoration-color: #008080\">      0</span> │ <span style=\"color: #008080; text-decoration-color: #008080\">      10</span> │ <span style=\"color: #008080; text-decoration-color: #008080\">   3.2</span> │ <span style=\"color: #008080; text-decoration-color: #008080\">         2</span> │ <span style=\"color: #008080; text-decoration-color: #008080\">       8</span> │ <span style=\"color: #008080; text-decoration-color: #008080\">    12</span> │ <span style=\"color: #008080; text-decoration-color: #008080\">    20</span> │ <span style=\"color: #008000; text-decoration-color: #008000\">▁▄█▆▃▁ </span> │  │\n",
       "│ │ <span style=\"color: #af87ff; text-decoration-color: #af87ff\">rnd             </span> │ <span style=\"color: #008080; text-decoration-color: #008080\">  120</span> │ <span style=\"color: #008080; text-decoration-color: #008080\">     12</span> │ <span style=\"color: #008080; text-decoration-color: #008080\">   -0.02</span> │ <span style=\"color: #008080; text-decoration-color: #008080\">     1</span> │ <span style=\"color: #008080; text-decoration-color: #008080\">      -2.8</span> │ <span style=\"color: #008080; text-decoration-color: #008080\">   -0.74</span> │ <span style=\"color: #008080; text-decoration-color: #008080\">  0.66</span> │ <span style=\"color: #008080; text-decoration-color: #008080\">   3.7</span> │ <span style=\"color: #008000; text-decoration-color: #008000\"> ▁▄█▅▁ </span> │  │\n",
       "│ └──────────────────┴───────┴─────────┴──────────┴────────┴────────────┴──────────┴────────┴────────┴─────────┘  │\n",
       "│ <span style=\"font-style: italic\">                                                   category                                                   </span>  │\n",
       "│ ┏━━━━━━━━━━━━━━━━━━━━━━━━━━━━━━━━━━┳━━━━━━━━━━━┳━━━━━━━━━━━━━━━━┳━━━━━━━━━━━━━━━━━━━━━━━┳━━━━━━━━━━━━━━━━━━━━┓  │\n",
       "│ ┃<span style=\"font-weight: bold\"> column_name                      </span>┃<span style=\"font-weight: bold\"> NA        </span>┃<span style=\"font-weight: bold\"> NA %           </span>┃<span style=\"font-weight: bold\"> ordered               </span>┃<span style=\"font-weight: bold\"> unique             </span>┃  │\n",
       "│ ┡━━━━━━━━━━━━━━━━━━━━━━━━━━━━━━━━━━╇━━━━━━━━━━━╇━━━━━━━━━━━━━━━━╇━━━━━━━━━━━━━━━━━━━━━━━╇━━━━━━━━━━━━━━━━━━━━┩  │\n",
       "│ │ <span style=\"color: #af87ff; text-decoration-color: #af87ff\">class                           </span> │ <span style=\"color: #008080; text-decoration-color: #008080\">        0</span> │ <span style=\"color: #008080; text-decoration-color: #008080\">             0</span> │ <span style=\"color: #00d7ff; text-decoration-color: #00d7ff\">False                </span> │ <span style=\"color: #008080; text-decoration-color: #008080\">                 2</span> │  │\n",
       "│ │ <span style=\"color: #af87ff; text-decoration-color: #af87ff\">location                        </span> │ <span style=\"color: #008080; text-decoration-color: #008080\">        1</span> │ <span style=\"color: #008080; text-decoration-color: #008080\">           0.1</span> │ <span style=\"color: #00d7ff; text-decoration-color: #00d7ff\">False                </span> │ <span style=\"color: #008080; text-decoration-color: #008080\">                 5</span> │  │\n",
       "│ └──────────────────────────────────┴───────────┴────────────────┴───────────────────────┴────────────────────┘  │\n",
       "│ <span style=\"font-style: italic\">                                                   datetime                                                   </span>  │\n",
       "│ ┏━━━━━━━━━━━━━━━━━━━━━━━━━┳━━━━━━━┳━━━━━━━━━━━┳━━━━━━━━━━━━━━━━━━━━━┳━━━━━━━━━━━━━━━━━━━━━┳━━━━━━━━━━━━━━━━━━┓  │\n",
       "│ ┃<span style=\"font-weight: bold\"> column_name             </span>┃<span style=\"font-weight: bold\"> NA    </span>┃<span style=\"font-weight: bold\"> NA %      </span>┃<span style=\"font-weight: bold\"> first               </span>┃<span style=\"font-weight: bold\"> last                </span>┃<span style=\"font-weight: bold\"> frequency        </span>┃  │\n",
       "│ ┡━━━━━━━━━━━━━━━━━━━━━━━━━╇━━━━━━━╇━━━━━━━━━━━╇━━━━━━━━━━━━━━━━━━━━━╇━━━━━━━━━━━━━━━━━━━━━╇━━━━━━━━━━━━━━━━━━┩  │\n",
       "│ │ <span style=\"color: #af87ff; text-decoration-color: #af87ff\">date                   </span> │ <span style=\"color: #008080; text-decoration-color: #008080\">    0</span> │ <span style=\"color: #008080; text-decoration-color: #008080\">        0</span> │ <span style=\"color: #800000; text-decoration-color: #800000\">    2018-01-31     </span> │ <span style=\"color: #800000; text-decoration-color: #800000\">    2101-04-30     </span> │ <span style=\"color: #af87ff; text-decoration-color: #af87ff\">ME              </span> │  │\n",
       "│ │ <span style=\"color: #af87ff; text-decoration-color: #af87ff\">date_no_freq           </span> │ <span style=\"color: #008080; text-decoration-color: #008080\">    3</span> │ <span style=\"color: #008080; text-decoration-color: #008080\">      0.3</span> │ <span style=\"color: #800000; text-decoration-color: #800000\">    1992-01-05     </span> │ <span style=\"color: #800000; text-decoration-color: #800000\">    2023-03-04     </span> │ <span style=\"color: #af87ff; text-decoration-color: #af87ff\">None            </span> │  │\n",
       "│ └─────────────────────────┴───────┴───────────┴─────────────────────┴─────────────────────┴──────────────────┘  │\n",
       "│ <span style=\"font-style: italic\">                                                    string                                                    </span>  │\n",
       "│ ┏━━━━━━━━━━━━━━━━━━━━━━━━━━━┳━━━━━━━━━┳━━━━━━━━━━━━┳━━━━━━━━━━━━━━━━━━━━━━━━━━━━━━┳━━━━━━━━━━━━━━━━━━━━━━━━━━┓  │\n",
       "│ ┃<span style=\"font-weight: bold\"> column_name               </span>┃<span style=\"font-weight: bold\"> NA      </span>┃<span style=\"font-weight: bold\"> NA %       </span>┃<span style=\"font-weight: bold\"> words per row                </span>┃<span style=\"font-weight: bold\"> total words              </span>┃  │\n",
       "│ ┡━━━━━━━━━━━━━━━━━━━━━━━━━━━╇━━━━━━━━━╇━━━━━━━━━━━━╇━━━━━━━━━━━━━━━━━━━━━━━━━━━━━━╇━━━━━━━━━━━━━━━━━━━━━━━━━━┩  │\n",
       "│ │ <span style=\"color: #af87ff; text-decoration-color: #af87ff\">text                     </span> │ <span style=\"color: #008080; text-decoration-color: #008080\">      6</span> │ <span style=\"color: #008080; text-decoration-color: #008080\">       0.6</span> │ <span style=\"color: #008080; text-decoration-color: #008080\">                         5.8</span> │ <span style=\"color: #008080; text-decoration-color: #008080\">                    5800</span> │  │\n",
       "│ └───────────────────────────┴─────────┴────────────┴──────────────────────────────┴──────────────────────────┘  │\n",
       "│ <span style=\"font-style: italic\">                                                     bool                                                     </span>  │\n",
       "│ ┏━━━━━━━━━━━━━━━━━━━━━━━━━━━━━━━━━━━━┳━━━━━━━━━━━━━━━━━┳━━━━━━━━━━━━━━━━━━━━━━━━━━━━━━━┳━━━━━━━━━━━━━━━━━━━━━┓  │\n",
       "│ ┃<span style=\"font-weight: bold\"> column_name                        </span>┃<span style=\"font-weight: bold\"> true            </span>┃<span style=\"font-weight: bold\"> true rate                     </span>┃<span style=\"font-weight: bold\"> hist                </span>┃  │\n",
       "│ ┡━━━━━━━━━━━━━━━━━━━━━━━━━━━━━━━━━━━━╇━━━━━━━━━━━━━━━━━╇━━━━━━━━━━━━━━━━━━━━━━━━━━━━━━━╇━━━━━━━━━━━━━━━━━━━━━┩  │\n",
       "│ │ <span style=\"color: #af87ff; text-decoration-color: #af87ff\">booly_col                         </span> │ <span style=\"color: #008080; text-decoration-color: #008080\">            520</span> │ <span style=\"color: #008080; text-decoration-color: #008080\">                         0.52</span> │ <span style=\"color: #008000; text-decoration-color: #008000\">      █    █       </span> │  │\n",
       "│ └────────────────────────────────────┴─────────────────┴───────────────────────────────┴─────────────────────┘  │\n",
       "╰────────────────────────────────────────────────────── End ──────────────────────────────────────────────────────╯\n",
       "</pre>\n"
      ],
      "text/plain": [
       "╭──────────────────────────────────────────────── skimpy summary ─────────────────────────────────────────────────╮\n",
       "│ \u001b[3m         Data Summary         \u001b[0m \u001b[3m      Data Types       \u001b[0m \u001b[3m       Categories        \u001b[0m                                │\n",
       "│ ┏━━━━━━━━━━━━━━━━━━━┳━━━━━━━━┓ ┏━━━━━━━━━━━━━┳━━━━━━━┓ ┏━━━━━━━━━━━━━━━━━━━━━━━┓                                │\n",
       "│ ┃\u001b[1;36m \u001b[0m\u001b[1;36mdataframe        \u001b[0m\u001b[1;36m \u001b[0m┃\u001b[1;36m \u001b[0m\u001b[1;36mValues\u001b[0m\u001b[1;36m \u001b[0m┃ ┃\u001b[1;36m \u001b[0m\u001b[1;36mColumn Type\u001b[0m\u001b[1;36m \u001b[0m┃\u001b[1;36m \u001b[0m\u001b[1;36mCount\u001b[0m\u001b[1;36m \u001b[0m┃ ┃\u001b[1;36m \u001b[0m\u001b[1;36mCategorical Variables\u001b[0m\u001b[1;36m \u001b[0m┃                                │\n",
       "│ ┡━━━━━━━━━━━━━━━━━━━╇━━━━━━━━┩ ┡━━━━━━━━━━━━━╇━━━━━━━┩ ┡━━━━━━━━━━━━━━━━━━━━━━━┩                                │\n",
       "│ │ Number of rows    │ 1000   │ │ float64     │ 3     │ │ class                 │                                │\n",
       "│ │ Number of columns │ 10     │ │ category    │ 2     │ │ location              │                                │\n",
       "│ └───────────────────┴────────┘ │ datetime64  │ 2     │ └───────────────────────┘                                │\n",
       "│                                │ int32       │ 1     │                                                          │\n",
       "│                                │ bool        │ 1     │                                                          │\n",
       "│                                │ string      │ 1     │                                                          │\n",
       "│                                └─────────────┴───────┘                                                          │\n",
       "│ \u001b[3m                                                    number                                                    \u001b[0m  │\n",
       "│ ┏━━━━━━━━━━━━━━━━━━┳━━━━━━━┳━━━━━━━━━┳━━━━━━━━━━┳━━━━━━━━┳━━━━━━━━━━━━┳━━━━━━━━━━┳━━━━━━━━┳━━━━━━━━┳━━━━━━━━━┓  │\n",
       "│ ┃\u001b[1m \u001b[0m\u001b[1mcolumn_name     \u001b[0m\u001b[1m \u001b[0m┃\u001b[1m \u001b[0m\u001b[1mNA   \u001b[0m\u001b[1m \u001b[0m┃\u001b[1m \u001b[0m\u001b[1mNA %   \u001b[0m\u001b[1m \u001b[0m┃\u001b[1m \u001b[0m\u001b[1mmean    \u001b[0m\u001b[1m \u001b[0m┃\u001b[1m \u001b[0m\u001b[1msd    \u001b[0m\u001b[1m \u001b[0m┃\u001b[1m \u001b[0m\u001b[1mp0        \u001b[0m\u001b[1m \u001b[0m┃\u001b[1m \u001b[0m\u001b[1mp25     \u001b[0m\u001b[1m \u001b[0m┃\u001b[1m \u001b[0m\u001b[1mp75   \u001b[0m\u001b[1m \u001b[0m┃\u001b[1m \u001b[0m\u001b[1mp100  \u001b[0m\u001b[1m \u001b[0m┃\u001b[1m \u001b[0m\u001b[1mhist   \u001b[0m\u001b[1m \u001b[0m┃  │\n",
       "│ ┡━━━━━━━━━━━━━━━━━━╇━━━━━━━╇━━━━━━━━━╇━━━━━━━━━━╇━━━━━━━━╇━━━━━━━━━━━━╇━━━━━━━━━━╇━━━━━━━━╇━━━━━━━━╇━━━━━━━━━┩  │\n",
       "│ │ \u001b[38;5;141mlength          \u001b[0m │ \u001b[36m    0\u001b[0m │ \u001b[36m      0\u001b[0m │ \u001b[36m     0.5\u001b[0m │ \u001b[36m  0.36\u001b[0m │ \u001b[36m   1.6e-06\u001b[0m │ \u001b[36m    0.13\u001b[0m │ \u001b[36m  0.86\u001b[0m │ \u001b[36m     1\u001b[0m │ \u001b[32m█▃▃▃▄█ \u001b[0m │  │\n",
       "│ │ \u001b[38;5;141mwidth           \u001b[0m │ \u001b[36m    0\u001b[0m │ \u001b[36m      0\u001b[0m │ \u001b[36m       2\u001b[0m │ \u001b[36m   1.9\u001b[0m │ \u001b[36m    0.0021\u001b[0m │ \u001b[36m     0.6\u001b[0m │ \u001b[36m     3\u001b[0m │ \u001b[36m    14\u001b[0m │ \u001b[32m  █▃▁  \u001b[0m │  │\n",
       "│ │ \u001b[38;5;141mdepth           \u001b[0m │ \u001b[36m    0\u001b[0m │ \u001b[36m      0\u001b[0m │ \u001b[36m      10\u001b[0m │ \u001b[36m   3.2\u001b[0m │ \u001b[36m         2\u001b[0m │ \u001b[36m       8\u001b[0m │ \u001b[36m    12\u001b[0m │ \u001b[36m    20\u001b[0m │ \u001b[32m▁▄█▆▃▁ \u001b[0m │  │\n",
       "│ │ \u001b[38;5;141mrnd             \u001b[0m │ \u001b[36m  120\u001b[0m │ \u001b[36m     12\u001b[0m │ \u001b[36m   -0.02\u001b[0m │ \u001b[36m     1\u001b[0m │ \u001b[36m      -2.8\u001b[0m │ \u001b[36m   -0.74\u001b[0m │ \u001b[36m  0.66\u001b[0m │ \u001b[36m   3.7\u001b[0m │ \u001b[32m ▁▄█▅▁ \u001b[0m │  │\n",
       "│ └──────────────────┴───────┴─────────┴──────────┴────────┴────────────┴──────────┴────────┴────────┴─────────┘  │\n",
       "│ \u001b[3m                                                   category                                                   \u001b[0m  │\n",
       "│ ┏━━━━━━━━━━━━━━━━━━━━━━━━━━━━━━━━━━┳━━━━━━━━━━━┳━━━━━━━━━━━━━━━━┳━━━━━━━━━━━━━━━━━━━━━━━┳━━━━━━━━━━━━━━━━━━━━┓  │\n",
       "│ ┃\u001b[1m \u001b[0m\u001b[1mcolumn_name                     \u001b[0m\u001b[1m \u001b[0m┃\u001b[1m \u001b[0m\u001b[1mNA       \u001b[0m\u001b[1m \u001b[0m┃\u001b[1m \u001b[0m\u001b[1mNA %          \u001b[0m\u001b[1m \u001b[0m┃\u001b[1m \u001b[0m\u001b[1mordered              \u001b[0m\u001b[1m \u001b[0m┃\u001b[1m \u001b[0m\u001b[1munique            \u001b[0m\u001b[1m \u001b[0m┃  │\n",
       "│ ┡━━━━━━━━━━━━━━━━━━━━━━━━━━━━━━━━━━╇━━━━━━━━━━━╇━━━━━━━━━━━━━━━━╇━━━━━━━━━━━━━━━━━━━━━━━╇━━━━━━━━━━━━━━━━━━━━┩  │\n",
       "│ │ \u001b[38;5;141mclass                           \u001b[0m │ \u001b[36m        0\u001b[0m │ \u001b[36m             0\u001b[0m │ \u001b[38;5;45mFalse                \u001b[0m │ \u001b[36m                 2\u001b[0m │  │\n",
       "│ │ \u001b[38;5;141mlocation                        \u001b[0m │ \u001b[36m        1\u001b[0m │ \u001b[36m           0.1\u001b[0m │ \u001b[38;5;45mFalse                \u001b[0m │ \u001b[36m                 5\u001b[0m │  │\n",
       "│ └──────────────────────────────────┴───────────┴────────────────┴───────────────────────┴────────────────────┘  │\n",
       "│ \u001b[3m                                                   datetime                                                   \u001b[0m  │\n",
       "│ ┏━━━━━━━━━━━━━━━━━━━━━━━━━┳━━━━━━━┳━━━━━━━━━━━┳━━━━━━━━━━━━━━━━━━━━━┳━━━━━━━━━━━━━━━━━━━━━┳━━━━━━━━━━━━━━━━━━┓  │\n",
       "│ ┃\u001b[1m \u001b[0m\u001b[1mcolumn_name            \u001b[0m\u001b[1m \u001b[0m┃\u001b[1m \u001b[0m\u001b[1mNA   \u001b[0m\u001b[1m \u001b[0m┃\u001b[1m \u001b[0m\u001b[1mNA %     \u001b[0m\u001b[1m \u001b[0m┃\u001b[1m \u001b[0m\u001b[1mfirst              \u001b[0m\u001b[1m \u001b[0m┃\u001b[1m \u001b[0m\u001b[1mlast               \u001b[0m\u001b[1m \u001b[0m┃\u001b[1m \u001b[0m\u001b[1mfrequency       \u001b[0m\u001b[1m \u001b[0m┃  │\n",
       "│ ┡━━━━━━━━━━━━━━━━━━━━━━━━━╇━━━━━━━╇━━━━━━━━━━━╇━━━━━━━━━━━━━━━━━━━━━╇━━━━━━━━━━━━━━━━━━━━━╇━━━━━━━━━━━━━━━━━━┩  │\n",
       "│ │ \u001b[38;5;141mdate                   \u001b[0m │ \u001b[36m    0\u001b[0m │ \u001b[36m        0\u001b[0m │ \u001b[31m    2018-01-31     \u001b[0m │ \u001b[31m    2101-04-30     \u001b[0m │ \u001b[38;5;141mME              \u001b[0m │  │\n",
       "│ │ \u001b[38;5;141mdate_no_freq           \u001b[0m │ \u001b[36m    3\u001b[0m │ \u001b[36m      0.3\u001b[0m │ \u001b[31m    1992-01-05     \u001b[0m │ \u001b[31m    2023-03-04     \u001b[0m │ \u001b[38;5;141mNone            \u001b[0m │  │\n",
       "│ └─────────────────────────┴───────┴───────────┴─────────────────────┴─────────────────────┴──────────────────┘  │\n",
       "│ \u001b[3m                                                    string                                                    \u001b[0m  │\n",
       "│ ┏━━━━━━━━━━━━━━━━━━━━━━━━━━━┳━━━━━━━━━┳━━━━━━━━━━━━┳━━━━━━━━━━━━━━━━━━━━━━━━━━━━━━┳━━━━━━━━━━━━━━━━━━━━━━━━━━┓  │\n",
       "│ ┃\u001b[1m \u001b[0m\u001b[1mcolumn_name              \u001b[0m\u001b[1m \u001b[0m┃\u001b[1m \u001b[0m\u001b[1mNA     \u001b[0m\u001b[1m \u001b[0m┃\u001b[1m \u001b[0m\u001b[1mNA %      \u001b[0m\u001b[1m \u001b[0m┃\u001b[1m \u001b[0m\u001b[1mwords per row               \u001b[0m\u001b[1m \u001b[0m┃\u001b[1m \u001b[0m\u001b[1mtotal words             \u001b[0m\u001b[1m \u001b[0m┃  │\n",
       "│ ┡━━━━━━━━━━━━━━━━━━━━━━━━━━━╇━━━━━━━━━╇━━━━━━━━━━━━╇━━━━━━━━━━━━━━━━━━━━━━━━━━━━━━╇━━━━━━━━━━━━━━━━━━━━━━━━━━┩  │\n",
       "│ │ \u001b[38;5;141mtext                     \u001b[0m │ \u001b[36m      6\u001b[0m │ \u001b[36m       0.6\u001b[0m │ \u001b[36m                         5.8\u001b[0m │ \u001b[36m                    5800\u001b[0m │  │\n",
       "│ └───────────────────────────┴─────────┴────────────┴──────────────────────────────┴──────────────────────────┘  │\n",
       "│ \u001b[3m                                                     bool                                                     \u001b[0m  │\n",
       "│ ┏━━━━━━━━━━━━━━━━━━━━━━━━━━━━━━━━━━━━┳━━━━━━━━━━━━━━━━━┳━━━━━━━━━━━━━━━━━━━━━━━━━━━━━━━┳━━━━━━━━━━━━━━━━━━━━━┓  │\n",
       "│ ┃\u001b[1m \u001b[0m\u001b[1mcolumn_name                       \u001b[0m\u001b[1m \u001b[0m┃\u001b[1m \u001b[0m\u001b[1mtrue           \u001b[0m\u001b[1m \u001b[0m┃\u001b[1m \u001b[0m\u001b[1mtrue rate                    \u001b[0m\u001b[1m \u001b[0m┃\u001b[1m \u001b[0m\u001b[1mhist               \u001b[0m\u001b[1m \u001b[0m┃  │\n",
       "│ ┡━━━━━━━━━━━━━━━━━━━━━━━━━━━━━━━━━━━━╇━━━━━━━━━━━━━━━━━╇━━━━━━━━━━━━━━━━━━━━━━━━━━━━━━━╇━━━━━━━━━━━━━━━━━━━━━┩  │\n",
       "│ │ \u001b[38;5;141mbooly_col                         \u001b[0m │ \u001b[36m            520\u001b[0m │ \u001b[36m                         0.52\u001b[0m │ \u001b[32m      █    █       \u001b[0m │  │\n",
       "│ └────────────────────────────────────┴─────────────────┴───────────────────────────────┴─────────────────────┘  │\n",
       "╰────────────────────────────────────────────────────── End ──────────────────────────────────────────────────────╯\n"
      ]
     },
     "metadata": {},
     "output_type": "display_data"
    }
   ],
   "source": [
    "from skimpy import generate_test_data, skim\n",
    "\n",
    "df = generate_test_data()\n",
    "skim(df)"
   ]
  }
 ],
 "metadata": {
  "kernelspec": {
   "display_name": "Python 3",
   "language": "python",
   "name": "python3"
  },
  "language_info": {
   "codemirror_mode": {
    "name": "ipython",
    "version": 3
   },
   "file_extension": ".py",
   "mimetype": "text/x-python",
   "name": "python",
   "nbconvert_exporter": "python",
   "pygments_lexer": "ipython3",
   "version": "3.10.11"
  }
 },
 "nbformat": 4,
 "nbformat_minor": 2
}
