{
 "cells": [
  {
   "cell_type": "code",
   "execution_count": 15,
   "id": "67aac79f",
   "metadata": {},
   "outputs": [
    {
     "data": {
      "application/vnd.microsoft.datawrangler.viewer.v0+json": {
       "columns": [
        {
         "name": "index",
         "rawType": "int64",
         "type": "integer"
        },
        {
         "name": "Name",
         "rawType": "object",
         "type": "string"
        },
        {
         "name": "Author",
         "rawType": "object",
         "type": "string"
        },
        {
         "name": "User Rating",
         "rawType": "float64",
         "type": "float"
        },
        {
         "name": "Reviews",
         "rawType": "int64",
         "type": "integer"
        },
        {
         "name": "Price",
         "rawType": "int64",
         "type": "integer"
        },
        {
         "name": "Year",
         "rawType": "int64",
         "type": "integer"
        },
        {
         "name": "Genre",
         "rawType": "object",
         "type": "string"
        }
       ],
       "ref": "3c3d6ed2-a006-4585-83cd-e088bc34fff7",
       "rows": [
        [
         "0",
         "10-Day Green Smoothie Cleanse",
         "JJ Smith",
         "4.7",
         "17350",
         "8",
         "2016",
         "Non Fiction"
        ],
        [
         "1",
         "11/22/63: A Novel",
         "Stephen King",
         "4.6",
         "2052",
         "22",
         "2011",
         "Fiction"
        ],
        [
         "2",
         "12 Rules for Life: An Antidote to Chaos",
         "Jordan B. Peterson",
         "4.7",
         "18979",
         "15",
         "2018",
         "Non Fiction"
        ],
        [
         "3",
         "1984 (Signet Classics)",
         "George Orwell",
         "4.7",
         "21424",
         "6",
         "2017",
         "Fiction"
        ],
        [
         "4",
         "5,000 Awesome Facts (About Everything!) (National Geographic Kids)",
         "National Geographic Kids",
         "4.8",
         "7665",
         "12",
         "2019",
         "Non Fiction"
        ]
       ],
       "shape": {
        "columns": 7,
        "rows": 5
       }
      },
      "text/html": [
       "<div>\n",
       "<style scoped>\n",
       "    .dataframe tbody tr th:only-of-type {\n",
       "        vertical-align: middle;\n",
       "    }\n",
       "\n",
       "    .dataframe tbody tr th {\n",
       "        vertical-align: top;\n",
       "    }\n",
       "\n",
       "    .dataframe thead th {\n",
       "        text-align: right;\n",
       "    }\n",
       "</style>\n",
       "<table border=\"1\" class=\"dataframe\">\n",
       "  <thead>\n",
       "    <tr style=\"text-align: right;\">\n",
       "      <th></th>\n",
       "      <th>Name</th>\n",
       "      <th>Author</th>\n",
       "      <th>User Rating</th>\n",
       "      <th>Reviews</th>\n",
       "      <th>Price</th>\n",
       "      <th>Year</th>\n",
       "      <th>Genre</th>\n",
       "    </tr>\n",
       "  </thead>\n",
       "  <tbody>\n",
       "    <tr>\n",
       "      <th>0</th>\n",
       "      <td>10-Day Green Smoothie Cleanse</td>\n",
       "      <td>JJ Smith</td>\n",
       "      <td>4.7</td>\n",
       "      <td>17350</td>\n",
       "      <td>8</td>\n",
       "      <td>2016</td>\n",
       "      <td>Non Fiction</td>\n",
       "    </tr>\n",
       "    <tr>\n",
       "      <th>1</th>\n",
       "      <td>11/22/63: A Novel</td>\n",
       "      <td>Stephen King</td>\n",
       "      <td>4.6</td>\n",
       "      <td>2052</td>\n",
       "      <td>22</td>\n",
       "      <td>2011</td>\n",
       "      <td>Fiction</td>\n",
       "    </tr>\n",
       "    <tr>\n",
       "      <th>2</th>\n",
       "      <td>12 Rules for Life: An Antidote to Chaos</td>\n",
       "      <td>Jordan B. Peterson</td>\n",
       "      <td>4.7</td>\n",
       "      <td>18979</td>\n",
       "      <td>15</td>\n",
       "      <td>2018</td>\n",
       "      <td>Non Fiction</td>\n",
       "    </tr>\n",
       "    <tr>\n",
       "      <th>3</th>\n",
       "      <td>1984 (Signet Classics)</td>\n",
       "      <td>George Orwell</td>\n",
       "      <td>4.7</td>\n",
       "      <td>21424</td>\n",
       "      <td>6</td>\n",
       "      <td>2017</td>\n",
       "      <td>Fiction</td>\n",
       "    </tr>\n",
       "    <tr>\n",
       "      <th>4</th>\n",
       "      <td>5,000 Awesome Facts (About Everything!) (Natio...</td>\n",
       "      <td>National Geographic Kids</td>\n",
       "      <td>4.8</td>\n",
       "      <td>7665</td>\n",
       "      <td>12</td>\n",
       "      <td>2019</td>\n",
       "      <td>Non Fiction</td>\n",
       "    </tr>\n",
       "  </tbody>\n",
       "</table>\n",
       "</div>"
      ],
      "text/plain": [
       "                                                Name  \\\n",
       "0                      10-Day Green Smoothie Cleanse   \n",
       "1                                  11/22/63: A Novel   \n",
       "2            12 Rules for Life: An Antidote to Chaos   \n",
       "3                             1984 (Signet Classics)   \n",
       "4  5,000 Awesome Facts (About Everything!) (Natio...   \n",
       "\n",
       "                     Author  User Rating  Reviews  Price  Year        Genre  \n",
       "0                  JJ Smith          4.7    17350      8  2016  Non Fiction  \n",
       "1              Stephen King          4.6     2052     22  2011      Fiction  \n",
       "2        Jordan B. Peterson          4.7    18979     15  2018  Non Fiction  \n",
       "3             George Orwell          4.7    21424      6  2017      Fiction  \n",
       "4  National Geographic Kids          4.8     7665     12  2019  Non Fiction  "
      ]
     },
     "execution_count": 15,
     "metadata": {},
     "output_type": "execute_result"
    }
   ],
   "source": [
    "import pandas as pd\n",
    "\n",
    "df = pd.read_csv('bestsellers_ with_ categories.csv')\n",
    "df.head()"
   ]
  },
  {
   "cell_type": "code",
   "execution_count": 16,
   "id": "a4bd72a9",
   "metadata": {},
   "outputs": [],
   "source": [
    "import seaborn as sns"
   ]
  },
  {
   "cell_type": "code",
   "execution_count": 17,
   "id": "5bbac1c7",
   "metadata": {},
   "outputs": [
    {
     "name": "stdout",
     "output_type": "stream",
     "text": [
      "DataFrame Info:\n",
      "<class 'pandas.core.frame.DataFrame'>\n",
      "RangeIndex: 550 entries, 0 to 549\n",
      "Data columns (total 7 columns):\n",
      " #   Column       Non-Null Count  Dtype  \n",
      "---  ------       --------------  -----  \n",
      " 0   Name         550 non-null    object \n",
      " 1   Author       550 non-null    object \n",
      " 2   User Rating  550 non-null    float64\n",
      " 3   Reviews      550 non-null    int64  \n",
      " 4   Price        550 non-null    int64  \n",
      " 5   Year         550 non-null    int64  \n",
      " 6   Genre        550 non-null    object \n",
      "dtypes: float64(1), int64(3), object(3)\n",
      "memory usage: 30.2+ KB\n",
      "\n",
      "Missing Values:\n",
      " Name           0\n",
      "Author         0\n",
      "User Rating    0\n",
      "Reviews        0\n",
      "Price          0\n",
      "Year           0\n",
      "Genre          0\n",
      "dtype: int64\n",
      "\n",
      "Descriptive Statistics:\n"
     ]
    },
    {
     "data": {
      "application/vnd.microsoft.datawrangler.viewer.v0+json": {
       "columns": [
        {
         "name": "index",
         "rawType": "object",
         "type": "string"
        },
        {
         "name": "Name",
         "rawType": "object",
         "type": "unknown"
        },
        {
         "name": "Author",
         "rawType": "object",
         "type": "unknown"
        },
        {
         "name": "User Rating",
         "rawType": "float64",
         "type": "float"
        },
        {
         "name": "Reviews",
         "rawType": "float64",
         "type": "float"
        },
        {
         "name": "Price",
         "rawType": "float64",
         "type": "float"
        },
        {
         "name": "Year",
         "rawType": "float64",
         "type": "float"
        },
        {
         "name": "Genre",
         "rawType": "object",
         "type": "unknown"
        }
       ],
       "ref": "135c7ad9-e75f-44a8-8c07-86839d7bcb50",
       "rows": [
        [
         "count",
         "550",
         "550",
         "550.0",
         "550.0",
         "550.0",
         "550.0",
         "550"
        ],
        [
         "unique",
         "351",
         "248",
         null,
         null,
         null,
         null,
         "2"
        ],
        [
         "top",
         "Publication Manual of the American Psychological Association, 6th Edition",
         "Jeff Kinney",
         null,
         null,
         null,
         null,
         "Non Fiction"
        ],
        [
         "freq",
         "10",
         "12",
         null,
         null,
         null,
         null,
         "310"
        ],
        [
         "mean",
         null,
         null,
         "4.618363636363637",
         "11953.281818181818",
         "13.1",
         "2014.0",
         null
        ],
        [
         "std",
         null,
         null,
         "0.2269803650251963",
         "11731.132017431892",
         "10.84226197842236",
         "3.165156384169307",
         null
        ],
        [
         "min",
         null,
         null,
         "3.3",
         "37.0",
         "0.0",
         "2009.0",
         null
        ],
        [
         "25%",
         null,
         null,
         "4.5",
         "4058.0",
         "7.0",
         "2011.0",
         null
        ],
        [
         "50%",
         null,
         null,
         "4.7",
         "8580.0",
         "11.0",
         "2014.0",
         null
        ],
        [
         "75%",
         null,
         null,
         "4.8",
         "17253.25",
         "16.0",
         "2017.0",
         null
        ],
        [
         "max",
         null,
         null,
         "4.9",
         "87841.0",
         "105.0",
         "2019.0",
         null
        ]
       ],
       "shape": {
        "columns": 7,
        "rows": 11
       }
      },
      "text/html": [
       "<div>\n",
       "<style scoped>\n",
       "    .dataframe tbody tr th:only-of-type {\n",
       "        vertical-align: middle;\n",
       "    }\n",
       "\n",
       "    .dataframe tbody tr th {\n",
       "        vertical-align: top;\n",
       "    }\n",
       "\n",
       "    .dataframe thead th {\n",
       "        text-align: right;\n",
       "    }\n",
       "</style>\n",
       "<table border=\"1\" class=\"dataframe\">\n",
       "  <thead>\n",
       "    <tr style=\"text-align: right;\">\n",
       "      <th></th>\n",
       "      <th>Name</th>\n",
       "      <th>Author</th>\n",
       "      <th>User Rating</th>\n",
       "      <th>Reviews</th>\n",
       "      <th>Price</th>\n",
       "      <th>Year</th>\n",
       "      <th>Genre</th>\n",
       "    </tr>\n",
       "  </thead>\n",
       "  <tbody>\n",
       "    <tr>\n",
       "      <th>count</th>\n",
       "      <td>550</td>\n",
       "      <td>550</td>\n",
       "      <td>550.000000</td>\n",
       "      <td>550.000000</td>\n",
       "      <td>550.000000</td>\n",
       "      <td>550.000000</td>\n",
       "      <td>550</td>\n",
       "    </tr>\n",
       "    <tr>\n",
       "      <th>unique</th>\n",
       "      <td>351</td>\n",
       "      <td>248</td>\n",
       "      <td>NaN</td>\n",
       "      <td>NaN</td>\n",
       "      <td>NaN</td>\n",
       "      <td>NaN</td>\n",
       "      <td>2</td>\n",
       "    </tr>\n",
       "    <tr>\n",
       "      <th>top</th>\n",
       "      <td>Publication Manual of the American Psychologic...</td>\n",
       "      <td>Jeff Kinney</td>\n",
       "      <td>NaN</td>\n",
       "      <td>NaN</td>\n",
       "      <td>NaN</td>\n",
       "      <td>NaN</td>\n",
       "      <td>Non Fiction</td>\n",
       "    </tr>\n",
       "    <tr>\n",
       "      <th>freq</th>\n",
       "      <td>10</td>\n",
       "      <td>12</td>\n",
       "      <td>NaN</td>\n",
       "      <td>NaN</td>\n",
       "      <td>NaN</td>\n",
       "      <td>NaN</td>\n",
       "      <td>310</td>\n",
       "    </tr>\n",
       "    <tr>\n",
       "      <th>mean</th>\n",
       "      <td>NaN</td>\n",
       "      <td>NaN</td>\n",
       "      <td>4.618364</td>\n",
       "      <td>11953.281818</td>\n",
       "      <td>13.100000</td>\n",
       "      <td>2014.000000</td>\n",
       "      <td>NaN</td>\n",
       "    </tr>\n",
       "    <tr>\n",
       "      <th>std</th>\n",
       "      <td>NaN</td>\n",
       "      <td>NaN</td>\n",
       "      <td>0.226980</td>\n",
       "      <td>11731.132017</td>\n",
       "      <td>10.842262</td>\n",
       "      <td>3.165156</td>\n",
       "      <td>NaN</td>\n",
       "    </tr>\n",
       "    <tr>\n",
       "      <th>min</th>\n",
       "      <td>NaN</td>\n",
       "      <td>NaN</td>\n",
       "      <td>3.300000</td>\n",
       "      <td>37.000000</td>\n",
       "      <td>0.000000</td>\n",
       "      <td>2009.000000</td>\n",
       "      <td>NaN</td>\n",
       "    </tr>\n",
       "    <tr>\n",
       "      <th>25%</th>\n",
       "      <td>NaN</td>\n",
       "      <td>NaN</td>\n",
       "      <td>4.500000</td>\n",
       "      <td>4058.000000</td>\n",
       "      <td>7.000000</td>\n",
       "      <td>2011.000000</td>\n",
       "      <td>NaN</td>\n",
       "    </tr>\n",
       "    <tr>\n",
       "      <th>50%</th>\n",
       "      <td>NaN</td>\n",
       "      <td>NaN</td>\n",
       "      <td>4.700000</td>\n",
       "      <td>8580.000000</td>\n",
       "      <td>11.000000</td>\n",
       "      <td>2014.000000</td>\n",
       "      <td>NaN</td>\n",
       "    </tr>\n",
       "    <tr>\n",
       "      <th>75%</th>\n",
       "      <td>NaN</td>\n",
       "      <td>NaN</td>\n",
       "      <td>4.800000</td>\n",
       "      <td>17253.250000</td>\n",
       "      <td>16.000000</td>\n",
       "      <td>2017.000000</td>\n",
       "      <td>NaN</td>\n",
       "    </tr>\n",
       "    <tr>\n",
       "      <th>max</th>\n",
       "      <td>NaN</td>\n",
       "      <td>NaN</td>\n",
       "      <td>4.900000</td>\n",
       "      <td>87841.000000</td>\n",
       "      <td>105.000000</td>\n",
       "      <td>2019.000000</td>\n",
       "      <td>NaN</td>\n",
       "    </tr>\n",
       "  </tbody>\n",
       "</table>\n",
       "</div>"
      ],
      "text/plain": [
       "                                                     Name       Author  \\\n",
       "count                                                 550          550   \n",
       "unique                                                351          248   \n",
       "top     Publication Manual of the American Psychologic...  Jeff Kinney   \n",
       "freq                                                   10           12   \n",
       "mean                                                  NaN          NaN   \n",
       "std                                                   NaN          NaN   \n",
       "min                                                   NaN          NaN   \n",
       "25%                                                   NaN          NaN   \n",
       "50%                                                   NaN          NaN   \n",
       "75%                                                   NaN          NaN   \n",
       "max                                                   NaN          NaN   \n",
       "\n",
       "        User Rating       Reviews       Price         Year        Genre  \n",
       "count    550.000000    550.000000  550.000000   550.000000          550  \n",
       "unique          NaN           NaN         NaN          NaN            2  \n",
       "top             NaN           NaN         NaN          NaN  Non Fiction  \n",
       "freq            NaN           NaN         NaN          NaN          310  \n",
       "mean       4.618364  11953.281818   13.100000  2014.000000          NaN  \n",
       "std        0.226980  11731.132017   10.842262     3.165156          NaN  \n",
       "min        3.300000     37.000000    0.000000  2009.000000          NaN  \n",
       "25%        4.500000   4058.000000    7.000000  2011.000000          NaN  \n",
       "50%        4.700000   8580.000000   11.000000  2014.000000          NaN  \n",
       "75%        4.800000  17253.250000   16.000000  2017.000000          NaN  \n",
       "max        4.900000  87841.000000  105.000000  2019.000000          NaN  "
      ]
     },
     "metadata": {},
     "output_type": "display_data"
    }
   ],
   "source": [
    "# Display basic information\n",
    "print(\"DataFrame Info:\")\n",
    "df.info()\n",
    "print(\"\\nMissing Values:\\n\", df.isnull().sum())\n",
    "print(\"\\nDescriptive Statistics:\")\n",
    "display(df.describe(include='all'))\n"
   ]
  },
  {
   "cell_type": "code",
   "execution_count": 18,
   "id": "1c3df4d2",
   "metadata": {},
   "outputs": [
    {
     "name": "stdout",
     "output_type": "stream",
     "text": [
      "\n",
      "Number of duplicate rows: 0\n"
     ]
    }
   ],
   "source": [
    "# # Check for duplicates\n",
    "print(\"\\nNumber of duplicate rows:\", df.duplicated().sum())"
   ]
  },
  {
   "cell_type": "code",
   "execution_count": 19,
   "id": "ab5007b3",
   "metadata": {},
   "outputs": [
    {
     "name": "stdout",
     "output_type": "stream",
     "text": [
      "\n",
      "Genre Value Counts:\n",
      " Genre\n",
      "Non Fiction    310\n",
      "Fiction        240\n",
      "Name: count, dtype: int64\n",
      "\n",
      "Year Value Counts:\n",
      " Year\n",
      "2016    50\n",
      "2011    50\n",
      "2018    50\n",
      "2017    50\n",
      "2019    50\n",
      "2014    50\n",
      "2010    50\n",
      "2009    50\n",
      "2015    50\n",
      "2013    50\n",
      "2012    50\n",
      "Name: count, dtype: int64\n"
     ]
    }
   ],
   "source": [
    "# Value counts for categorical columns\n",
    "print(\"\\nGenre Value Counts:\\n\", df['Genre'].value_counts())\n",
    "print(\"\\nYear Value Counts:\\n\", df['Year'].value_counts())"
   ]
  },
  {
   "cell_type": "code",
   "execution_count": 20,
   "id": "c7647faf",
   "metadata": {},
   "outputs": [
    {
     "name": "stdout",
     "output_type": "stream",
     "text": [
      "\n",
      "Correlation Matrix:\n"
     ]
    },
    {
     "data": {
      "application/vnd.microsoft.datawrangler.viewer.v0+json": {
       "columns": [
        {
         "name": "index",
         "rawType": "object",
         "type": "string"
        },
        {
         "name": "User Rating",
         "rawType": "float64",
         "type": "float"
        },
        {
         "name": "Reviews",
         "rawType": "float64",
         "type": "float"
        },
        {
         "name": "Price",
         "rawType": "float64",
         "type": "float"
        },
        {
         "name": "Year",
         "rawType": "float64",
         "type": "float"
        }
       ],
       "ref": "618e83d1-9c10-459b-8e5c-e4be4bdb89c7",
       "rows": [
        [
         "User Rating",
         "1.0",
         "-0.0017290142555487738",
         "-0.13308628728088093",
         "0.2423829602201198"
        ],
        [
         "Reviews",
         "-0.0017290142555487738",
         "1.0",
         "-0.10918188342780513",
         "0.26355960436586084"
        ],
        [
         "Price",
         "-0.13308628728088093",
         "-0.10918188342780513",
         "1.0",
         "-0.15397858170436862"
        ],
        [
         "Year",
         "0.2423829602201198",
         "0.26355960436586084",
         "-0.15397858170436862",
         "1.0"
        ]
       ],
       "shape": {
        "columns": 4,
        "rows": 4
       }
      },
      "text/html": [
       "<div>\n",
       "<style scoped>\n",
       "    .dataframe tbody tr th:only-of-type {\n",
       "        vertical-align: middle;\n",
       "    }\n",
       "\n",
       "    .dataframe tbody tr th {\n",
       "        vertical-align: top;\n",
       "    }\n",
       "\n",
       "    .dataframe thead th {\n",
       "        text-align: right;\n",
       "    }\n",
       "</style>\n",
       "<table border=\"1\" class=\"dataframe\">\n",
       "  <thead>\n",
       "    <tr style=\"text-align: right;\">\n",
       "      <th></th>\n",
       "      <th>User Rating</th>\n",
       "      <th>Reviews</th>\n",
       "      <th>Price</th>\n",
       "      <th>Year</th>\n",
       "    </tr>\n",
       "  </thead>\n",
       "  <tbody>\n",
       "    <tr>\n",
       "      <th>User Rating</th>\n",
       "      <td>1.000000</td>\n",
       "      <td>-0.001729</td>\n",
       "      <td>-0.133086</td>\n",
       "      <td>0.242383</td>\n",
       "    </tr>\n",
       "    <tr>\n",
       "      <th>Reviews</th>\n",
       "      <td>-0.001729</td>\n",
       "      <td>1.000000</td>\n",
       "      <td>-0.109182</td>\n",
       "      <td>0.263560</td>\n",
       "    </tr>\n",
       "    <tr>\n",
       "      <th>Price</th>\n",
       "      <td>-0.133086</td>\n",
       "      <td>-0.109182</td>\n",
       "      <td>1.000000</td>\n",
       "      <td>-0.153979</td>\n",
       "    </tr>\n",
       "    <tr>\n",
       "      <th>Year</th>\n",
       "      <td>0.242383</td>\n",
       "      <td>0.263560</td>\n",
       "      <td>-0.153979</td>\n",
       "      <td>1.000000</td>\n",
       "    </tr>\n",
       "  </tbody>\n",
       "</table>\n",
       "</div>"
      ],
      "text/plain": [
       "             User Rating   Reviews     Price      Year\n",
       "User Rating     1.000000 -0.001729 -0.133086  0.242383\n",
       "Reviews        -0.001729  1.000000 -0.109182  0.263560\n",
       "Price          -0.133086 -0.109182  1.000000 -0.153979\n",
       "Year            0.242383  0.263560 -0.153979  1.000000"
      ]
     },
     "metadata": {},
     "output_type": "display_data"
    }
   ],
   "source": [
    "# Correlation matrix\n",
    "print(\"\\nCorrelation Matrix:\")\n",
    "display(df.corr(numeric_only=True))"
   ]
  },
  {
   "cell_type": "code",
   "execution_count": 21,
   "id": "3328a07f",
   "metadata": {},
   "outputs": [
    {
     "data": {
      "image/png": "[encoded data removed]",
      "text/plain": [
       "<Figure size 1200x800 with 4 Axes>"
      ]
     },
     "metadata": {},
     "output_type": "display_data"
    }
   ],
   "source": [
    "# Visualizations\n",
    "import matplotlib.pyplot as plt\n",
    "\n",
    "# # Distribution of numerical features\n",
    "num_cols = ['User Rating', 'Reviews', 'Price', 'Year']\n",
    "df[num_cols].hist(figsize=(12, 8), bins=20)\n",
    "plt.tight_layout()\n",
    "plt.show()"
   ]
  },
  {
   "cell_type": "code",
   "execution_count": 22,
   "id": "2ebc8c72",
   "metadata": {},
   "outputs": [
    {
     "data": {
      "image/png": "[encoded data removed]",
      "text/plain": [
       "<Figure size 1200x600 with 3 Axes>"
      ]
     },
     "metadata": {},
     "output_type": "display_data"
    }
   ],
   "source": [
    "# Boxplots for outlier detection\n",
    "plt.figure(figsize=(12, 6))\n",
    "for i, col in enumerate(num_cols[:-1], 1):\n",
    "    plt.subplot(1, 3, i)\n",
    "    sns.boxplot(y=df[col])\n",
    "    plt.title(f'Boxplot of {col}')\n",
    "plt.tight_layout()\n",
    "plt.show()"
   ]
  },
  {
   "cell_type": "code",
   "execution_count": 23,
   "id": "372f3a20",
   "metadata": {},
   "outputs": [
    {
     "data": {
      "image/png": "[encoded data removed]",
      "text/plain": [
       "<Figure size 600x400 with 1 Axes>"
      ]
     },
     "metadata": {},
     "output_type": "display_data"
    }
   ],
   "source": [
    "# Countplot for Genre\n",
    "plt.figure(figsize=(6, 4))\n",
    "sns.countplot(x='Genre', data=df)\n",
    "plt.title('Count of Books by Genre')\n",
    "plt.show()"
   ]
  },
  {
   "cell_type": "code",
   "execution_count": 24,
   "id": "eebf8752",
   "metadata": {},
   "outputs": [
    {
     "data": {
      "image/png": "[encoded data removed]",
      "text/plain": [
       "<Figure size 600x400 with 1 Axes>"
      ]
     },
     "metadata": {},
     "output_type": "display_data"
    }
   ],
   "source": [
    "# Average User Rating by Genre\n",
    "plt.figure(figsize=(6, 4))\n",
    "sns.barplot(x='Genre', y='User Rating', data=df)\n",
    "plt.title('Average User Rating by Genre')\n",
    "plt.show()"
   ]
  },
  {
   "cell_type": "code",
   "execution_count": 25,
   "id": "09d6779b",
   "metadata": {},
   "outputs": [
    {
     "data": {
      "image/png": "[encoded data removed]",
      "text/plain": [
       "<Figure size 600x400 with 1 Axes>"
      ]
     },
     "metadata": {},
     "output_type": "display_data"
    }
   ],
   "source": [
    "# Reviews vs. Price scatter plot\n",
    "plt.figure(figsize=(6, 4))\n",
    "sns.scatterplot(x='Price', y='Reviews', hue='Genre', data=df)\n",
    "plt.title('Reviews vs. Price by Genre')\n",
    "plt.show()"
   ]
  },
  {
   "cell_type": "code",
   "execution_count": 26,
   "id": "17ed6be2",
   "metadata": {},
   "outputs": [
    {
     "name": "stdout",
     "output_type": "stream",
     "text": [
      "<class 'pandas.core.frame.DataFrame'>\n",
      "RangeIndex: 550 entries, 0 to 549\n",
      "Data columns (total 7 columns):\n",
      " #   Column       Non-Null Count  Dtype  \n",
      "---  ------       --------------  -----  \n",
      " 0   Name         550 non-null    object \n",
      " 1   Author       550 non-null    object \n",
      " 2   User Rating  550 non-null    float64\n",
      " 3   Reviews      550 non-null    int64  \n",
      " 4   Price        550 non-null    int64  \n",
      " 5   Year         550 non-null    int64  \n",
      " 6   Genre        550 non-null    object \n",
      "dtypes: float64(1), int64(3), object(3)\n",
      "memory usage: 30.2+ KB\n"
     ]
    },
    {
     "data": {
      "application/vnd.microsoft.datawrangler.viewer.v0+json": {
       "columns": [
        {
         "name": "Genre",
         "rawType": "object",
         "type": "string"
        },
        {
         "name": "count",
         "rawType": "int64",
         "type": "integer"
        }
       ],
       "ref": "f664ca89-d892-4d60-8441-d56ad613cbce",
       "rows": [
        [
         "Non Fiction",
         "310"
        ],
        [
         "Fiction",
         "240"
        ]
       ],
       "shape": {
        "columns": 1,
        "rows": 2
       }
      },
      "text/plain": [
       "Genre\n",
       "Non Fiction    310\n",
       "Fiction        240\n",
       "Name: count, dtype: int64"
      ]
     },
     "execution_count": 26,
     "metadata": {},
     "output_type": "execute_result"
    }
   ],
   "source": [
    "df.info()\n",
    "df.describe()\n",
    "df['Genre'].value_counts()\n"
   ]
  },
  {
   "cell_type": "code",
   "execution_count": 27,
   "id": "d0108d19",
   "metadata": {
    "vscode": {
     "languageId": "ruby"
    }
   },
   "outputs": [
    {
     "data": {
      "application/vnd.microsoft.datawrangler.viewer.v0+json": {
       "columns": [
        {
         "name": "Genre",
         "rawType": "object",
         "type": "string"
        },
        {
         "name": "User Rating",
         "rawType": "float64",
         "type": "float"
        }
       ],
       "ref": "4f8dd179-a9ef-4511-93fe-dc11ae53d933",
       "rows": [
        [
         "Fiction",
         "4.6483333333333325"
        ],
        [
         "Non Fiction",
         "4.59516129032258"
        ]
       ],
       "shape": {
        "columns": 1,
        "rows": 2
       }
      },
      "text/plain": [
       "Genre\n",
       "Fiction        4.648333\n",
       "Non Fiction    4.595161\n",
       "Name: User Rating, dtype: float64"
      ]
     },
     "execution_count": 27,
     "metadata": {},
     "output_type": "execute_result"
    }
   ],
   "source": [
    "# Average User Rating by Genre\n",
    "df.groupby('Genre')['User Rating'].mean()\n",
    "\n",
    "\n",
    "\n",
    "\n",
    "\n",
    "\n",
    "\n",
    "# # Maximum User Rating by Author\n",
    "# df.groupby('Author')['User Rating'].max().sort_values(ascending=False).head(10)"
   ]
  },
  {
   "cell_type": "code",
   "execution_count": 28,
   "id": "df4b621e",
   "metadata": {
    "vscode": {
     "languageId": "ruby"
    }
   },
   "outputs": [
    {
     "data": {
      "application/vnd.microsoft.datawrangler.viewer.v0+json": {
       "columns": [
        {
         "name": "Year",
         "rawType": "int64",
         "type": "integer"
        },
        {
         "name": "Reviews",
         "rawType": "int64",
         "type": "integer"
        }
       ],
       "ref": "6ac35ea2-7125-49f4-92d9-21b9235b4d0f",
       "rows": [
        [
         "2009",
         "235506"
        ],
        [
         "2010",
         "273981"
        ],
        [
         "2011",
         "405041"
        ],
        [
         "2012",
         "654546"
        ],
        [
         "2013",
         "654907"
        ],
        [
         "2014",
         "792997"
        ],
        [
         "2015",
         "711669"
        ],
        [
         "2016",
         "709800"
        ],
        [
         "2017",
         "644420"
        ],
        [
         "2018",
         "696521"
        ],
        [
         "2019",
         "794917"
        ]
       ],
       "shape": {
        "columns": 1,
        "rows": 11
       }
      },
      "text/plain": [
       "Year\n",
       "2009    235506\n",
       "2010    273981\n",
       "2011    405041\n",
       "2012    654546\n",
       "2013    654907\n",
       "2014    792997\n",
       "2015    711669\n",
       "2016    709800\n",
       "2017    644420\n",
       "2018    696521\n",
       "2019    794917\n",
       "Name: Reviews, dtype: int64"
      ]
     },
     "execution_count": 28,
     "metadata": {},
     "output_type": "execute_result"
    }
   ],
   "source": [
    "# Total Reviews by Year\n",
    "df.groupby('Year')['Reviews'].sum()"
   ]
  },
  {
   "cell_type": "code",
   "execution_count": 29,
   "id": "a023e0c0",
   "metadata": {
    "vscode": {
     "languageId": "ruby"
    }
   },
   "outputs": [
    {
     "data": {
      "application/vnd.microsoft.datawrangler.viewer.v0+json": {
       "columns": [
        {
         "name": "Author",
         "rawType": "object",
         "type": "string"
        },
        {
         "name": "Name",
         "rawType": "int64",
         "type": "integer"
        }
       ],
       "ref": "ea08a64d-fcc8-4f14-9a30-d23419933187",
       "rows": [
        [
         "Jeff Kinney",
         "12"
        ],
        [
         "Gary Chapman",
         "11"
        ],
        [
         "Suzanne Collins",
         "11"
        ],
        [
         "Rick Riordan",
         "11"
        ],
        [
         "American Psychological Association",
         "10"
        ],
        [
         "Gallup",
         "9"
        ],
        [
         "Dr. Seuss",
         "9"
        ],
        [
         "Rob Elliott",
         "8"
        ],
        [
         "Eric Carle",
         "7"
        ],
        [
         "Bill O'Reilly",
         "7"
        ]
       ],
       "shape": {
        "columns": 1,
        "rows": 10
       }
      },
      "text/plain": [
       "Author\n",
       "Jeff Kinney                           12\n",
       "Gary Chapman                          11\n",
       "Suzanne Collins                       11\n",
       "Rick Riordan                          11\n",
       "American Psychological Association    10\n",
       "Gallup                                 9\n",
       "Dr. Seuss                              9\n",
       "Rob Elliott                            8\n",
       "Eric Carle                             7\n",
       "Bill O'Reilly                          7\n",
       "Name: Name, dtype: int64"
      ]
     },
     "execution_count": 29,
     "metadata": {},
     "output_type": "execute_result"
    }
   ],
   "source": [
    "# Count of books by Author\n",
    "df.groupby('Author')['Name'].count().sort_values(ascending=False).head(10)"
   ]
  },
  {
   "cell_type": "code",
   "execution_count": 30,
   "id": "62d557b2",
   "metadata": {
    "vscode": {
     "languageId": "ruby"
    }
   },
   "outputs": [
    {
     "data": {
      "application/vnd.microsoft.datawrangler.viewer.v0+json": {
       "columns": [
        {
         "name": "('Genre', 'Year')",
         "rawType": "object",
         "type": "unknown"
        },
        {
         "name": "Price",
         "rawType": "float64",
         "type": "float"
        }
       ],
       "ref": "dadfd4de-5f33-456c-81ba-d58ff06d22b7",
       "rows": [
        [
         "('Fiction', 2009)",
         "15.583333333333334"
        ],
        [
         "('Fiction', 2010)",
         "9.7"
        ],
        [
         "('Fiction', 2011)",
         "11.619047619047619"
        ],
        [
         "('Fiction', 2012)",
         "12.285714285714286"
        ],
        [
         "('Fiction', 2013)",
         "10.708333333333334"
        ],
        [
         "('Fiction', 2014)",
         "10.172413793103448"
        ],
        [
         "('Fiction', 2015)",
         "9.352941176470589"
        ],
        [
         "('Fiction', 2016)",
         "12.631578947368421"
        ],
        [
         "('Fiction', 2017)",
         "8.833333333333334"
        ],
        [
         "('Fiction', 2018)",
         "8.761904761904763"
        ],
        [
         "('Fiction', 2019)",
         "9.35"
        ],
        [
         "('Non Fiction', 2009)",
         "15.23076923076923"
        ],
        [
         "('Non Fiction', 2010)",
         "16.0"
        ],
        [
         "('Non Fiction', 2011)",
         "17.620689655172413"
        ],
        [
         "('Non Fiction', 2012)",
         "17.482758620689655"
        ],
        [
         "('Non Fiction', 2013)",
         "18.192307692307693"
        ],
        [
         "('Non Fiction', 2014)",
         "20.80952380952381"
        ],
        [
         "('Non Fiction', 2015)",
         "10.969696969696969"
        ],
        [
         "('Non Fiction', 2016)",
         "13.516129032258064"
        ],
        [
         "('Non Fiction', 2017)",
         "13.73076923076923"
        ],
        [
         "('Non Fiction', 2018)",
         "11.793103448275861"
        ],
        [
         "('Non Fiction', 2019)",
         "10.566666666666666"
        ]
       ],
       "shape": {
        "columns": 1,
        "rows": 22
       }
      },
      "text/plain": [
       "Genre        Year\n",
       "Fiction      2009    15.583333\n",
       "             2010     9.700000\n",
       "             2011    11.619048\n",
       "             2012    12.285714\n",
       "             2013    10.708333\n",
       "             2014    10.172414\n",
       "             2015     9.352941\n",
       "             2016    12.631579\n",
       "             2017     8.833333\n",
       "             2018     8.761905\n",
       "             2019     9.350000\n",
       "Non Fiction  2009    15.230769\n",
       "             2010    16.000000\n",
       "             2011    17.620690\n",
       "             2012    17.482759\n",
       "             2013    18.192308\n",
       "             2014    20.809524\n",
       "             2015    10.969697\n",
       "             2016    13.516129\n",
       "             2017    13.730769\n",
       "             2018    11.793103\n",
       "             2019    10.566667\n",
       "Name: Price, dtype: float64"
      ]
     },
     "execution_count": 30,
     "metadata": {},
     "output_type": "execute_result"
    }
   ],
   "source": [
    " # Average Price by Genre and Year\n",
    "df.groupby(['Genre', 'Year'])['Price'].mean()"
   ]
  },
  {
   "cell_type": "code",
   "execution_count": 31,
   "id": "6f7d1a64",
   "metadata": {
    "vscode": {
     "languageId": "ruby"
    }
   },
   "outputs": [
    {
     "data": {
      "application/vnd.microsoft.datawrangler.viewer.v0+json": {
       "columns": [
        {
         "name": "Author",
         "rawType": "object",
         "type": "string"
        },
        {
         "name": "User Rating",
         "rawType": "float64",
         "type": "float"
        }
       ],
       "ref": "f33ba23c-4444-4c1a-bd0d-3ee4c1db86ef",
       "rows": [
        [
         "Jeff Kinney",
         "4.9"
        ],
        [
         "Dr. Seuss",
         "4.9"
        ],
        [
         "J. K. Rowling",
         "4.9"
        ],
        [
         "J.K. Rowling",
         "4.9"
        ],
        [
         "Patrick Thorpe",
         "4.9"
        ],
        [
         "Emily Winfield Martin",
         "4.9"
        ],
        [
         "Bill Martin Jr.",
         "4.9"
        ],
        [
         "Nathan W. Pyle",
         "4.9"
        ],
        [
         "Jill Twiss",
         "4.9"
        ],
        [
         "Rush Limbaugh",
         "4.9"
        ]
       ],
       "shape": {
        "columns": 1,
        "rows": 10
       }
      },
      "text/plain": [
       "Author\n",
       "Jeff Kinney              4.9\n",
       "Dr. Seuss                4.9\n",
       "J. K. Rowling            4.9\n",
       "J.K. Rowling             4.9\n",
       "Patrick Thorpe           4.9\n",
       "Emily Winfield Martin    4.9\n",
       "Bill Martin Jr.          4.9\n",
       "Nathan W. Pyle           4.9\n",
       "Jill Twiss               4.9\n",
       "Rush Limbaugh            4.9\n",
       "Name: User Rating, dtype: float64"
      ]
     },
     "execution_count": 31,
     "metadata": {},
     "output_type": "execute_result"
    }
   ],
   "source": [
    "# Maximum User Rating by Author\n",
    "df.groupby('Author')['User Rating'].max().sort_values(ascending=False).head(10)"
   ]
  },
  {
   "cell_type": "code",
   "execution_count": 32,
   "id": "668ddd43",
   "metadata": {},
   "outputs": [
    {
     "ename": "NameError",
     "evalue": "name 'X_train' is not defined",
     "output_type": "error",
     "traceback": [
      "\u001b[1;31m---------------------------------------------------------------------------\u001b[0m",
      "\u001b[1;31mNameError\u001b[0m                                 Traceback (most recent call last)",
      "Cell \u001b[1;32mIn [32], line 14\u001b[0m\n\u001b[0;32m      6\u001b[0m \u001b[38;5;66;03m# 2. Prepare features and target\u001b[39;00m\n\u001b[0;32m      7\u001b[0m \u001b[38;5;66;03m# (Already done: X, y)\u001b[39;00m\n\u001b[0;32m      8\u001b[0m \n\u001b[1;32m   (...)\u001b[0m\n\u001b[0;32m     11\u001b[0m \n\u001b[0;32m     12\u001b[0m \u001b[38;5;66;03m# 4. Initialize and train the model\u001b[39;00m\n\u001b[0;32m     13\u001b[0m model \u001b[38;5;241m=\u001b[39m RandomForestRegressor(random_state\u001b[38;5;241m=\u001b[39m\u001b[38;5;241m42\u001b[39m)\n\u001b[1;32m---> 14\u001b[0m model\u001b[38;5;241m.\u001b[39mfit(\u001b[43mX_train\u001b[49m, y_train)\n\u001b[0;32m     16\u001b[0m \u001b[38;5;66;03m# 5. Make predictions\u001b[39;00m\n\u001b[0;32m     17\u001b[0m y_pred \u001b[38;5;241m=\u001b[39m model\u001b[38;5;241m.\u001b[39mpredict(X_test)\n",
      "\u001b[1;31mNameError\u001b[0m: name 'X_train' is not defined"
     ]
    }
   ],
   "source": [
    "# 1. Import necessary libraries\n",
    "from sklearn.model_selection import train_test_split\n",
    "from sklearn.ensemble import RandomForestRegressor\n",
    "from sklearn.metrics import mean_squared_error\n",
    "\n",
    "# 2. Prepare features and target\n",
    "# (Already done: X, y)\n",
    "\n",
    "# 3. Split data into train and test sets\n",
    "# (Already done: X_train, X_test, y_train, y_test)\n",
    "\n",
    "# 4. Initialize and train the model\n",
    "model = RandomForestRegressor(random_state=42)\n",
    "model.fit(X_train, y_train)\n",
    "\n",
    "# 5. Make predictions\n",
    "y_pred = model.predict(X_test)\n",
    "\n",
    "# 6. Evaluate the model\n",
    "mse = mean_squared_error(y_test, y_pred)\n",
    "print(f\"Mean Squared Error: {mse:.4f}\")\n",
    "\n",
    "# 7. (Optional) Feature importance\n",
    "importances = model.feature_importances_\n",
    "for feature, importance in zip(X.columns, importances):\n",
    "    print(f\"{feature}: {importance:.4f}\")"
   ]
  },
  {
   "cell_type": "markdown",
   "id": "90badae6",
   "metadata": {},
   "source": [
    "# New Expirments"
   ]
  },
  {
   "cell_type": "code",
   "execution_count": null,
   "id": "75a9e478",
   "metadata": {},
   "outputs": [
    {
     "name": "stdout",
     "output_type": "stream",
     "text": [
      "<class 'pandas.core.frame.DataFrame'>\n",
      "RangeIndex: 550 entries, 0 to 549\n",
      "Data columns (total 7 columns):\n",
      " #   Column       Non-Null Count  Dtype  \n",
      "---  ------       --------------  -----  \n",
      " 0   Name         550 non-null    object \n",
      " 1   Author       550 non-null    object \n",
      " 2   User Rating  550 non-null    float64\n",
      " 3   Reviews      550 non-null    int64  \n",
      " 4   Price        550 non-null    int64  \n",
      " 5   Year         550 non-null    int64  \n",
      " 6   Genre        550 non-null    object \n",
      "dtypes: float64(1), int64(3), object(3)\n",
      "memory usage: 30.2+ KB\n",
      "None\n",
      "Name           0\n",
      "Author         0\n",
      "User Rating    0\n",
      "Reviews        0\n",
      "Price          0\n",
      "Year           0\n",
      "Genre          0\n",
      "dtype: int64\n"
     ]
    }
   ],
   "source": [
    "# Dataset ka size aur column types\n",
    "print(df.info())\n",
    "\n",
    "# Null values check karo\n",
    "print(df.isnull().sum())\n"
   ]
  },
  {
   "cell_type": "code",
   "execution_count": null,
   "id": "051340cf",
   "metadata": {},
   "outputs": [],
   "source": [
    "# Fiction = 0, Non Fiction = 1\n",
    "df['Genre'] = df['Genre'].map({'Fiction': 0, 'Non Fiction': 1})"
   ]
  },
  {
   "cell_type": "code",
   "execution_count": null,
   "id": "49d24879",
   "metadata": {},
   "outputs": [],
   "source": [
    "# Convert 'Author' to multiple columns (one-hot encoding)\n",
    "df_encoded = pd.get_dummies(df, columns=['Author'], drop_first=True)"
   ]
  },
  {
   "cell_type": "code",
   "execution_count": null,
   "id": "afecc167",
   "metadata": {},
   "outputs": [],
   "source": [
    "# Drop 'Name' (text) and 'Price' (target)\n",
    "X = df_encoded.drop(['Name', 'Price'], axis=1)\n",
    "\n",
    "# Target = Price\n",
    "y = df_encoded['Price']\n"
   ]
  },
  {
   "cell_type": "code",
   "execution_count": null,
   "id": "c7bea4fe",
   "metadata": {},
   "outputs": [],
   "source": [
    "from sklearn.model_selection import train_test_split\n",
    "\n",
    "# 80% training, 20% testing\n",
    "X_train, X_test, y_train, y_test = train_test_split(\n",
    "    X, y, test_size=0.2, random_state=42)\n"
   ]
  },
  {
   "cell_type": "code",
   "execution_count": null,
   "id": "41c44fc4",
   "metadata": {},
   "outputs": [
    {
     "name": "stdout",
     "output_type": "stream",
     "text": [
      "User Rating                  0\n",
      "Reviews                      0\n",
      "Year                         0\n",
      "Genre                      550\n",
      "Author_Adam Gasiewski        0\n",
      "                          ... \n",
      "Author_Walter Isaacson       0\n",
      "Author_William Davis         0\n",
      "Author_William P. Young      0\n",
      "Author_Wizards RPG Team      0\n",
      "Author_Zhi Gang Sha          0\n",
      "Length: 251, dtype: int64\n"
     ]
    }
   ],
   "source": [
    "# Check missing values in entire DataFrame\n",
    "print(X.isnull().sum())\n"
   ]
  },
  {
   "cell_type": "code",
   "execution_count": null,
   "id": "07807fd0",
   "metadata": {},
   "outputs": [
    {
     "name": "stdout",
     "output_type": "stream",
     "text": [
      "Series([], Name: count, dtype: int64)\n"
     ]
    }
   ],
   "source": [
    "print(df['Genre'].value_counts())"
   ]
  },
  {
   "cell_type": "code",
   "execution_count": null,
   "id": "582e4a21",
   "metadata": {},
   "outputs": [
    {
     "name": "stdout",
     "output_type": "stream",
     "text": [
      "Index(['Name', 'Author', 'User Rating', 'Reviews', 'Price', 'Year', 'Genre'], dtype='object')\n"
     ]
    }
   ],
   "source": [
    "print(df.columns)\n"
   ]
  },
  {
   "cell_type": "code",
   "execution_count": null,
   "id": "0f634cf3",
   "metadata": {},
   "outputs": [
    {
     "name": "stdout",
     "output_type": "stream",
     "text": [
      "Name                       0\n",
      "User Rating                0\n",
      "Reviews                    0\n",
      "Price                      0\n",
      "Year                       0\n",
      "                          ..\n",
      "Author_Walter Isaacson     0\n",
      "Author_William Davis       0\n",
      "Author_William P. Young    0\n",
      "Author_Wizards RPG Team    0\n",
      "Author_Zhi Gang Sha        0\n",
      "Length: 253, dtype: int64\n"
     ]
    }
   ],
   "source": [
    "print(df_encoded.isnull().sum())\n"
   ]
  },
  {
   "cell_type": "code",
   "execution_count": null,
   "id": "8b00ee8a",
   "metadata": {},
   "outputs": [],
   "source": [
    "# Fill all numeric NaNs with column mean\n",
    "df_encoded = df_encoded.fillna(df_encoded.mean(numeric_only=True))\n",
    "\n",
    "# For non-numeric (like strings, if any), use mode\n",
    "df_encoded = df_encoded.fillna(df_encoded.mode().iloc[0])\n"
   ]
  },
  {
   "cell_type": "code",
   "execution_count": null,
   "id": "09843f5e",
   "metadata": {},
   "outputs": [],
   "source": [
    "df_encoded = df_encoded.dropna()\n"
   ]
  },
  {
   "cell_type": "code",
   "execution_count": null,
   "id": "61d7df44",
   "metadata": {},
   "outputs": [],
   "source": [
    "X = df_encoded.drop(['Name', 'Price'], axis=1)\n",
    "y = df_encoded['Price']\n"
   ]
  },
  {
   "cell_type": "code",
   "execution_count": null,
   "id": "d0db3141",
   "metadata": {},
   "outputs": [
    {
     "name": "stdout",
     "output_type": "stream",
     "text": [
      "(0, 251)\n",
      "(0,)\n"
     ]
    }
   ],
   "source": [
    "print(X.shape)\n",
    "print(y.shape)"
   ]
  },
  {
   "cell_type": "code",
   "execution_count": null,
   "id": "6f188fab",
   "metadata": {},
   "outputs": [
    {
     "name": "stdout",
     "output_type": "stream",
     "text": [
      "(0, 253)\n",
      "Empty DataFrame\n",
      "Columns: [Name, User Rating, Reviews, Price, Year, Genre, Author_Adam Gasiewski, Author_Adam Mansbach, Author_Adir Levy, Author_Admiral William H. McRaven, Author_Adult Coloring Book Designs, Author_Alan Moore, Author_Alex Michaelides, Author_Alice Schertle, Author_Allie Brosh, Author_American Psychiatric Association, Author_American Psychological Association, Author_Amor Towles, Author_Amy Ramos, Author_Amy Shields, Author_Andy Weir, Author_Angie Grace, Author_Angie Thomas, Author_Ann Voskamp, Author_Ann Whitford Paul, Author_Anthony Bourdain, Author_Anthony Doerr, Author_Atul Gawande, Author_Audrey Niffenegger, Author_B. J. Novak, Author_Bessel van der Kolk M.D., Author_Bill Martin Jr., Author_Bill O'Reilly, Author_Bill Simmons, Author_Blue Star Coloring, Author_Bob Woodward, Author_Brandon Stanton, Author_Brené Brown, Author_Brian Kilmeade, Author_Bruce Springsteen, Author_Carol S. Dweck, Author_Celeste Ng, Author_Charlaine Harris, Author_Charles Duhigg, Author_Charles Krauthammer, Author_Cheryl Strayed, Author_Chip Gaines, Author_Chip Heath, Author_Chris Cleave, Author_Chris Kyle, Author_Chrissy Teigen, Author_Christina Baker Kline, Author_Christopher Paolini, Author_Coloring Books for Adults, Author_Craig Smith, Author_Crispin Boyer, Author_DK, Author_Dale Carnegie, Author_Dan Brown, Author_Daniel H. Pink, Author_Daniel James Brown, Author_Daniel Kahneman, Author_Daniel Lipkowitz, Author_Dav Pilkey, Author_Dave Ramsey, Author_David Goggins, Author_David Grann, Author_David McCullough, Author_David Perlmutter MD, Author_David Platt, Author_David Zinczenko, Author_Deborah Diesen, Author_Delegates of the Constitutional, Author_Delia Owens, Author_Dinah Bucholz, Author_Don Miguel Ruiz, Author_Donna Tartt, Author_Doug Lemov, Author_Dr. Seuss, Author_Dr. Steven R Gundry MD, Author_Drew Daywalt, Author_E L James, Author_Eben Alexander, Author_Edward Klein, Author_Edward M. Kennedy, Author_Elie Wiesel, Author_Elizabeth Strout, Author_Emily Winfield Martin, Author_Eric Carle, Author_Eric Larson, Author_Ernest Cline, Author_F. A. Hayek, Author_F. Scott Fitzgerald, Author_Francis Chan, Author_Fredrik Backman, Author_Gallup, Author_Garth Stein, Author_Gary Chapman, Author_Gayle Forman, Author_Geneen Roth, ...]\n",
      "Index: []\n",
      "\n",
      "[0 rows x 253 columns]\n"
     ]
    }
   ],
   "source": [
    "print(df_encoded.shape)\n",
    "print(df_encoded.head())"
   ]
  },
  {
   "cell_type": "code",
   "execution_count": null,
   "id": "2b2c9888",
   "metadata": {},
   "outputs": [
    {
     "name": "stdout",
     "output_type": "stream",
     "text": [
      "(0, 253)\n"
     ]
    }
   ],
   "source": [
    "print(df_encoded.shape)"
   ]
  },
  {
   "cell_type": "code",
   "execution_count": null,
   "id": "bb0a1fe4",
   "metadata": {},
   "outputs": [],
   "source": [
    "df_encoded = df_encoded.dropna()\n"
   ]
  },
  {
   "cell_type": "code",
   "execution_count": null,
   "id": "a3f8dfaa",
   "metadata": {},
   "outputs": [
    {
     "name": "stdout",
     "output_type": "stream",
     "text": [
      "(550, 7)\n",
      "                                                Name  \\\n",
      "0                      10-Day Green Smoothie Cleanse   \n",
      "1                                  11/22/63: A Novel   \n",
      "2            12 Rules for Life: An Antidote to Chaos   \n",
      "3                             1984 (Signet Classics)   \n",
      "4  5,000 Awesome Facts (About Everything!) (Natio...   \n",
      "\n",
      "                     Author  User Rating  Reviews  Price  Year        Genre  \n",
      "0                  JJ Smith          4.7    17350      8  2016  Non Fiction  \n",
      "1              Stephen King          4.6     2052     22  2011      Fiction  \n",
      "2        Jordan B. Peterson          4.7    18979     15  2018  Non Fiction  \n",
      "3             George Orwell          4.7    21424      6  2017      Fiction  \n",
      "4  National Geographic Kids          4.8     7665     12  2019  Non Fiction  \n"
     ]
    }
   ],
   "source": [
    "import pandas as pd\n",
    "\n",
    "# Step 1: Load CSV again (start fresh)\n",
    "df = pd.read_csv('bestsellers_ with_ categories.csv')\n",
    "\n",
    "# Step 2: Check initial data\n",
    "print(df.shape)\n",
    "print(df.head())\n"
   ]
  },
  {
   "cell_type": "code",
   "execution_count": null,
   "id": "bd1089b6",
   "metadata": {},
   "outputs": [],
   "source": [
    "# Fill missing Genre with most frequent\n",
    "if 'Genre' in df.columns:\n",
    "    df['Genre'] = df['Genre'].fillna(df['Genre'].mode()[0])\n",
    "    df['Genre'] = df['Genre'].map({'Fiction': 0, 'Non Fiction': 1})\n"
   ]
  },
  {
   "cell_type": "code",
   "execution_count": null,
   "id": "c21e5337",
   "metadata": {},
   "outputs": [],
   "source": [
    "df_encoded = pd.get_dummies(df, columns=['Author'], drop_first=True)"
   ]
  },
  {
   "cell_type": "code",
   "execution_count": null,
   "id": "c69939d5",
   "metadata": {},
   "outputs": [],
   "source": [
    "# If 'Name' exists, drop it\n",
    "if 'Name' in df_encoded.columns:\n",
    "    X = df_encoded.drop(['Name', 'Price'], axis=1)\n",
    "else:\n",
    "    X = df_encoded.drop(['Price'], axis=1)\n",
    "\n",
    "y = df_encoded['Price']\n"
   ]
  },
  {
   "cell_type": "code",
   "execution_count": null,
   "id": "d4ca8b7a",
   "metadata": {},
   "outputs": [
    {
     "data": {
      "text/html": [
       "<style>#sk-container-id-1 {color: black;background-color: white;}#sk-container-id-1 pre{padding: 0;}#sk-container-id-1 div.sk-toggleable {background-color: white;}#sk-container-id-1 label.sk-toggleable__label {cursor: pointer;display: block;width: 100%;margin-bottom: 0;padding: 0.3em;box-sizing: border-box;text-align: center;}#sk-container-id-1 label.sk-toggleable__label-arrow:before {content: \"▸\";float: left;margin-right: 0.25em;color: #696969;}#sk-container-id-1 label.sk-toggleable__label-arrow:hover:before {color: black;}#sk-container-id-1 div.sk-estimator:hover label.sk-toggleable__label-arrow:before {color: black;}#sk-container-id-1 div.sk-toggleable__content {max-height: 0;max-width: 0;overflow: hidden;text-align: left;background-color: #f0f8ff;}#sk-container-id-1 div.sk-toggleable__content pre {margin: 0.2em;color: black;border-radius: 0.25em;background-color: #f0f8ff;}#sk-container-id-1 input.sk-toggleable__control:checked~div.sk-toggleable__content {max-height: 200px;max-width: 100%;overflow: auto;}#sk-container-id-1 input.sk-toggleable__control:checked~label.sk-toggleable__label-arrow:before {content: \"▾\";}#sk-container-id-1 div.sk-estimator input.sk-toggleable__control:checked~label.sk-toggleable__label {background-color: #d4ebff;}#sk-container-id-1 div.sk-label input.sk-toggleable__control:checked~label.sk-toggleable__label {background-color: #d4ebff;}#sk-container-id-1 input.sk-hidden--visually {border: 0;clip: rect(1px 1px 1px 1px);clip: rect(1px, 1px, 1px, 1px);height: 1px;margin: -1px;overflow: hidden;padding: 0;position: absolute;width: 1px;}#sk-container-id-1 div.sk-estimator {font-family: monospace;background-color: #f0f8ff;border: 1px dotted black;border-radius: 0.25em;box-sizing: border-box;margin-bottom: 0.5em;}#sk-container-id-1 div.sk-estimator:hover {background-color: #d4ebff;}#sk-container-id-1 div.sk-parallel-item::after {content: \"\";width: 100%;border-bottom: 1px solid gray;flex-grow: 1;}#sk-container-id-1 div.sk-label:hover label.sk-toggleable__label {background-color: #d4ebff;}#sk-container-id-1 div.sk-serial::before {content: \"\";position: absolute;border-left: 1px solid gray;box-sizing: border-box;top: 0;bottom: 0;left: 50%;z-index: 0;}#sk-container-id-1 div.sk-serial {display: flex;flex-direction: column;align-items: center;background-color: white;padding-right: 0.2em;padding-left: 0.2em;position: relative;}#sk-container-id-1 div.sk-item {position: relative;z-index: 1;}#sk-container-id-1 div.sk-parallel {display: flex;align-items: stretch;justify-content: center;background-color: white;position: relative;}#sk-container-id-1 div.sk-item::before, #sk-container-id-1 div.sk-parallel-item::before {content: \"\";position: absolute;border-left: 1px solid gray;box-sizing: border-box;top: 0;bottom: 0;left: 50%;z-index: -1;}#sk-container-id-1 div.sk-parallel-item {display: flex;flex-direction: column;z-index: 1;position: relative;background-color: white;}#sk-container-id-1 div.sk-parallel-item:first-child::after {align-self: flex-end;width: 50%;}#sk-container-id-1 div.sk-parallel-item:last-child::after {align-self: flex-start;width: 50%;}#sk-container-id-1 div.sk-parallel-item:only-child::after {width: 0;}#sk-container-id-1 div.sk-dashed-wrapped {border: 1px dashed gray;margin: 0 0.4em 0.5em 0.4em;box-sizing: border-box;padding-bottom: 0.4em;background-color: white;}#sk-container-id-1 div.sk-label label {font-family: monospace;font-weight: bold;display: inline-block;line-height: 1.2em;}#sk-container-id-1 div.sk-label-container {text-align: center;}#sk-container-id-1 div.sk-container {/* jupyter's `normalize.less` sets `[hidden] { display: none; }` but bootstrap.min.css set `[hidden] { display: none !important; }` so we also need the `!important` here to be able to override the default hidden behavior on the sphinx rendered scikit-learn.org. See: https://github.com/scikit-learn/scikit-learn/issues/21755 */display: inline-block !important;position: relative;}#sk-container-id-1 div.sk-text-repr-fallback {display: none;}</style><div id=\"sk-container-id-1\" class=\"sk-top-container\"><div class=\"sk-text-repr-fallback\"><pre>RandomForestRegressor(random_state=42)</pre><b>In a Jupyter environment, please rerun this cell to show the HTML representation or trust the notebook. <br />On GitHub, the HTML representation is unable to render, please try loading this page with nbviewer.org.</b></div><div class=\"sk-container\" hidden><div class=\"sk-item\"><div class=\"sk-estimator sk-toggleable\"><input class=\"sk-toggleable__control sk-hidden--visually\" id=\"sk-estimator-id-1\" type=\"checkbox\" checked><label for=\"sk-estimator-id-1\" class=\"sk-toggleable__label sk-toggleable__label-arrow\">RandomForestRegressor</label><div class=\"sk-toggleable__content\"><pre>RandomForestRegressor(random_state=42)</pre></div></div></div></div></div>"
      ],
      "text/plain": [
       "RandomForestRegressor(random_state=42)"
      ]
     },
     "execution_count": 62,
     "metadata": {},
     "output_type": "execute_result"
    }
   ],
   "source": [
    "from sklearn.model_selection import train_test_split\n",
    "from sklearn.ensemble import RandomForestRegressor\n",
    "\n",
    "# Split data\n",
    "X_train, X_test, y_train, y_test = train_test_split(\n",
    "    X, y, test_size=0.2, random_state=42\n",
    ")\n",
    "\n",
    "# Train model\n",
    "model = RandomForestRegressor(random_state=42)\n",
    "model.fit(X_train, y_train)\n"
   ]
  },
  {
   "cell_type": "code",
   "execution_count": null,
   "id": "94f12a29",
   "metadata": {},
   "outputs": [
    {
     "name": "stdout",
     "output_type": "stream",
     "text": [
      "(440, 251)\n",
      "(440,)\n"
     ]
    }
   ],
   "source": [
    "print(X_train.shape)  # should show (something > 0, columns)\n",
    "print(y_train.shape)\n"
   ]
  },
  {
   "cell_type": "markdown",
   "id": "4674bfa2",
   "metadata": {},
   "source": [
    "# Predictions"
   ]
  },
  {
   "cell_type": "code",
   "execution_count": null,
   "id": "03d680c0",
   "metadata": {},
   "outputs": [
    {
     "name": "stdout",
     "output_type": "stream",
     "text": [
      "Mean Squared Error (MSE): 36.53\n",
      "R-squared Score (R²): 0.76\n"
     ]
    }
   ],
   "source": [
    "from sklearn.metrics import mean_squared_error, r2_score\n",
    "\n",
    "# Step 1: Predict karein test data ke liye\n",
    "y_pred = model.predict(X_test)\n",
    "\n",
    "# Step 2: Evaluate model performance\n",
    "mse = mean_squared_error(y_test, y_pred)\n",
    "r2 = r2_score(y_test, y_pred)\n",
    "\n",
    "print(f\"Mean Squared Error (MSE): {mse:.2f}\")\n",
    "print(f\"R-squared Score (R²): {r2:.2f}\")\n"
   ]
  },
  {
   "cell_type": "markdown",
   "id": "90d40fbd",
   "metadata": {},
   "source": [
    "# Explanation:\n",
    "# Metric\tMatlab\n",
    "# MSE\tPrediction aur real values ke darmiyan difference ka square\n",
    "# R² (R-squared)\tModel ne kitni achi prediction ki — jitna zyada, utna acha (max = 1.0)"
   ]
  },
  {
   "cell_type": "markdown",
   "id": "516288c8",
   "metadata": {},
   "source": [
    "# Bonus: Real vs Predicted Values ka Comparison"
   ]
  },
  {
   "cell_type": "code",
   "execution_count": null,
   "id": "c792afc9",
   "metadata": {},
   "outputs": [
    {
     "name": "stdout",
     "output_type": "stream",
     "text": [
      "   Actual Price  Predicted Price\n",
      "0            17             7.87\n",
      "1            13             9.66\n",
      "2             5             5.03\n",
      "3             6             8.94\n",
      "4             4            10.78\n",
      "5             6            11.94\n",
      "6             4             8.86\n",
      "7            13             8.82\n",
      "8            19            12.06\n",
      "9            11            11.18\n"
     ]
    }
   ],
   "source": [
    "# Compare first 10 predictions with actual values\n",
    "comparison = pd.DataFrame({\n",
    "    'Actual Price': y_test.values[:10],\n",
    "    'Predicted Price': y_pred[:10]\n",
    "})\n",
    "\n",
    "print(comparison)\n"
   ]
  },
  {
   "cell_type": "code",
   "execution_count": 33,
   "id": "06aa9dca",
   "metadata": {},
   "outputs": [
    {
     "name": "stdout",
     "output_type": "stream",
     "text": [
      "User Rating        0.226980\n",
      "Reviews        11731.132017\n",
      "Price             10.842262\n",
      "Year               3.165156\n",
      "dtype: float64\n"
     ]
    }
   ],
   "source": [
    "print(df.std(numeric_only=True))"
   ]
  }
 ],
 "metadata": {
  "kernelspec": {
   "display_name": "Python 3",
   "language": "python",
   "name": "python3"
  },
  "language_info": {
   "codemirror_mode": {
    "name": "ipython",
    "version": 3
   },
   "file_extension": ".py",
   "mimetype": "text/x-python",
   "name": "python",
   "nbconvert_exporter": "python",
   "pygments_lexer": "ipython3",
   "version": "3.10.11"
  }
 },
 "nbformat": 4,
 "nbformat_minor": 5
}
